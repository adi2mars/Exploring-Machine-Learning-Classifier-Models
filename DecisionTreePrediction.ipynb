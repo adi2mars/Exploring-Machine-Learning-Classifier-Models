{
  "nbformat": 4,
  "nbformat_minor": 0,
  "metadata": {
    "colab": {
      "provenance": []
    },
    "kernelspec": {
      "name": "python3",
      "display_name": "Python 3"
    },
    "language_info": {
      "name": "python"
    }
  },
  "cells": [
    {
      "cell_type": "code",
      "execution_count": 63,
      "metadata": {
        "id": "hF_wEoqdangf"
      },
      "outputs": [],
      "source": [
        "import pandas as pd\n",
        "import numpy as np\n",
        "import re\n",
        "from collections import Counter\n",
        "import random\n",
        "from sklearn.model_selection import train_test_split\n",
        "from sklearn.neighbors import KNeighborsClassifier\n",
        "from sklearn.metrics import accuracy_score\n",
        "from sklearn.tree import DecisionTreeClassifier\n",
        "from sklearn.neural_network import MLPClassifier\n",
        "# imports to visualize tree\n",
        "from sklearn import tree as treeViz\n",
        "import graphviz\n",
        "from IPython.display import display"
      ]
    },
    {
      "cell_type": "code",
      "source": [
        "STOP_WORDS = {'call', 'upon', 'still', 'nevertheless', 'down', 'every', 'forty', 're', 'always', 'whole', 'side', \"n't\",\n",
        "              'now', 'however', 'an', 'show', 'least', 'give', 'below', 'did', 'sometimes', 'which', \"'s\", 'nowhere', 'per',\n",
        "              'hereupon', 'yours', 'she', 'moreover', 'eight', 'somewhere', 'within', 'whereby', 'few', 'has', 'so', 'have',\n",
        "              'for', 'noone', 'top', 'were', 'those', 'thence', 'eleven', 'after', 'no', 'll', 'others', 'ourselves', 'themselves',\n",
        "              'though', 'that', 'nor', 'just', 's', 'before', 'had', 'toward', 'another', 'should', 'herself', 'and', 'these',\n",
        "              'such', 'elsewhere', 'further', 'next', 'indeed', 'bottom', 'anyone', 'his', 'each', 'then', 'both', 'became',\n",
        "              'third', 'whom', 've', 'mine', 'take', 'many', 'anywhere', 'to', 'well', 'thereafter', 'besides', 'almost',\n",
        "              'front', 'fifteen', 'towards', 'none', 'be', 'herein', 'two', 'using', 'whatever', 'please', 'perhaps', 'full',\n",
        "              'ca', 'we', 'latterly', 'here', 'therefore', 'how', 'was', 'made', 'the', 'or', 'may', 're', 'namely',\n",
        "              \"'ve\", 'anyway', 'amongst', 'used', 'ever', 'of', 'there', 'than', 'why', 'really', 'whither', 'in', 'only',\n",
        "              'wherein', 'last', 'under', 'own', 'therein', 'go', 'seems', 'm', 'wherever', 'either', 'someone', 'up',\n",
        "              'doing', 'on', 'rather', 'ours', 'again', 'same', 'over', 's', 'latter', 'during', 'done', \"'re\", 'put',\n",
        "              \"'m\", 'much', 'neither', 'among', 'seemed', 'into', 'once', 'my', 'otherwise', 'part', 'everywhere', 'never',\n",
        "              'myself', 'must', 'will', 'am', 'can', 'else', 'although', 'as', 'beyond', 'are', 'too', 'becomes', 'does', 'a',\n",
        "              'everyone', 'but', 'some', 'regarding', 'll', 'against', 'throughout', 'yourselves', 'him', \"'d\", 'it', 'himself',\n",
        "              'whether', 'move', 'm', 'hereafter', 're', 'while', 'whoever', 'your', 'first', 'amount', 'twelve', 'serious',\n",
        "              'other', 'any', 'off', 'seeming', 'four', 'itself', 'nothing', 'beforehand', 'make', 'out', 'very', 'already',\n",
        "              'various', 'until', 'hers', 'they', 'not', 'them', 'where', 'would', 'since', 'everything', 'at', 'together',\n",
        "              'yet', 'more', 'six', 'back', 'with', 'thereupon', 'becoming', 'around', 'due', 'keep', 'somehow', 'nt', 'across',\n",
        "              'all', 'when', 'i', 'empty', 'nine', 'five', 'get', 'see', 'been', 'name', 'between', 'hence', 'ten', 'several', 'from',\n",
        "              'whereupon', 'through', 'hereby', \"'ll\", 'alone', 'something', 'formerly', 'without', 'above', 'onto', 'except', 'enough',\n",
        "              'become', 'behind', 'd', 'its', 'most', 'nt', 'might', 'whereas', 'anything', 'if', 'her', 'via', 'fifty', 'is',\n",
        "              'thereby', 'twenty', 'often', 'whereafter', 'their', 'also', 'anyhow', 'cannot', 'our', 'could', 'because', 'who',\n",
        "              'beside', 'by', 'whence', 'being', 'meanwhile', 'this', 'afterwards', 'whenever', 'mostly', 'what', 'one', 'nobody',\n",
        "              'seem', 'less', 'do', 'd', 'say', 'thus', 'unless', 'along', 'yourself', 'former', 'thru', 'he', 'hundred', 'three',\n",
        "              'sixty', 'me', 'sometime', 'whose', 'you', 'quite', 've', 'about', 'even'}"
      ],
      "metadata": {
        "id": "6oV6IvGR9Z2N"
      },
      "execution_count": 64,
      "outputs": []
    },
    {
      "cell_type": "code",
      "source": [
        "def replace_nan(df, column_means):\n",
        "  columns_to_replace = ['Q1', 'Q2', 'Q3', 'Q4', 'Q7', 'Q8', 'Q9']\n",
        "\n",
        "  for index, row in df.iterrows():\n",
        "    for col in columns_to_replace:\n",
        "      if pd.isnull(row[col]):\n",
        "        df.at[index, col] = int(column_means[col])\n",
        "\n",
        "  return df\n",
        "\n",
        ""
      ],
      "metadata": {
        "id": "YolR3Y6Y9gRl"
      },
      "execution_count": 65,
      "outputs": []
    },
    {
      "cell_type": "code",
      "source": [
        "def organize_data(df):\n",
        "  df[\"Q5\"] = df[\"Q5\"].fillna('')\n",
        "  df[\"Q6\"] = df[\"Q6\"].fillna('')\n",
        "  df[\"Q10\"] = df[\"Q10\"].fillna('')\n",
        "\n",
        "  # Convert Q5 categories into binary features\n",
        "  q5_categories = [\"Partner\", \"Friends\", \"Siblings\", \"Co-worker\"]\n",
        "  for category in q5_categories:\n",
        "    df[f\"Q5_{category}\"] = df[\"Q5\"].apply(lambda s: 1 if category in s else 0)\n",
        "\n",
        "  # Convert Q6 categories into binary features\n",
        "  q6_categories = [\"Skyscrapers\", \"Sport\", \"Art and Music\", \"Carnival\", \"Cuisine\", \"Economic\"]\n",
        "  for category in q6_categories:\n",
        "    numbers = [int(re.findall(f\"{category}=>(\\d+)\", s)[0]) if re.findall(f\"{category}=>(\\d+)\", s) else 0 for s in\n",
        "                df[\"Q6\"]]\n",
        "    df[f\"Q6_{category}\"] = numbers\n",
        "\n",
        "  # Drop original columns\n",
        "  df.drop([\"Q5\", \"Q6\"], axis=1, inplace=True)\n",
        "\n",
        "  # fix string values input to Q7 and Q9\n",
        "  df['Q7'] = pd.to_numeric(df['Q7'].str.replace(',', ''), errors='coerce')\n",
        "  df['Q9'] = pd.to_numeric(df['Q9'].str.replace(',', ''), errors='coerce')\n",
        "\n",
        "  df[\"Q10\"] = df[\"Q10\"].astype(str)\n",
        "  df[\"Q10\"] = df[\"Q10\"].apply(lambda s: re.sub(r'[^a-zA-Z\\s]', ' ', s))\n",
        "  df[\"Q10\"] = df[\"Q10\"].apply(lambda s: ' '.join(s.split()))\n",
        "\n",
        "  vocab_list = list()\n",
        "  for text in df[\"Q10\"]:\n",
        "    words = text.split()\n",
        "    vocab_list.extend(words)\n",
        "  vocab_list = list(set(word.lower() for word in vocab_list))\n",
        "\n",
        "  filtered_vocab_list = [word for word in vocab_list if word.lower() not in STOP_WORDS]\n",
        "\n",
        "  for word in filtered_vocab_list:\n",
        "    df[word] = df[\"Q10\"].apply(lambda x: Counter(x.split())[word])\n",
        "\n",
        "  column_means = df[[\"Q1\", \"Q2\", \"Q3\", \"Q7\", \"Q8\", \"Q9\", \"Q4\"]].mean().astype(int)\n",
        "  df = replace_nan(df, column_means)\n",
        "  df.drop([\"Q10\"], axis=1, inplace=True)\n",
        "\n",
        "  return df"
      ],
      "metadata": {
        "id": "7zTyEPZuav4d"
      },
      "execution_count": 66,
      "outputs": []
    },
    {
      "cell_type": "code",
      "source": [
        "from google.colab import files\n",
        "uploaded = files.upload()"
      ],
      "metadata": {
        "colab": {
          "base_uri": "https://localhost:8080/",
          "height": 73
        },
        "id": "pN8WBHRubTh0",
        "outputId": "377a3515-b8e4-40cf-b012-7099cfe89e02"
      },
      "execution_count": 67,
      "outputs": [
        {
          "output_type": "display_data",
          "data": {
            "text/plain": [
              "<IPython.core.display.HTML object>"
            ],
            "text/html": [
              "\n",
              "     <input type=\"file\" id=\"files-5da4ebae-05e8-4232-aa00-f7d6db25c324\" name=\"files[]\" multiple disabled\n",
              "        style=\"border:none\" />\n",
              "     <output id=\"result-5da4ebae-05e8-4232-aa00-f7d6db25c324\">\n",
              "      Upload widget is only available when the cell has been executed in the\n",
              "      current browser session. Please rerun this cell to enable.\n",
              "      </output>\n",
              "      <script>// Copyright 2017 Google LLC\n",
              "//\n",
              "// Licensed under the Apache License, Version 2.0 (the \"License\");\n",
              "// you may not use this file except in compliance with the License.\n",
              "// You may obtain a copy of the License at\n",
              "//\n",
              "//      http://www.apache.org/licenses/LICENSE-2.0\n",
              "//\n",
              "// Unless required by applicable law or agreed to in writing, software\n",
              "// distributed under the License is distributed on an \"AS IS\" BASIS,\n",
              "// WITHOUT WARRANTIES OR CONDITIONS OF ANY KIND, either express or implied.\n",
              "// See the License for the specific language governing permissions and\n",
              "// limitations under the License.\n",
              "\n",
              "/**\n",
              " * @fileoverview Helpers for google.colab Python module.\n",
              " */\n",
              "(function(scope) {\n",
              "function span(text, styleAttributes = {}) {\n",
              "  const element = document.createElement('span');\n",
              "  element.textContent = text;\n",
              "  for (const key of Object.keys(styleAttributes)) {\n",
              "    element.style[key] = styleAttributes[key];\n",
              "  }\n",
              "  return element;\n",
              "}\n",
              "\n",
              "// Max number of bytes which will be uploaded at a time.\n",
              "const MAX_PAYLOAD_SIZE = 100 * 1024;\n",
              "\n",
              "function _uploadFiles(inputId, outputId) {\n",
              "  const steps = uploadFilesStep(inputId, outputId);\n",
              "  const outputElement = document.getElementById(outputId);\n",
              "  // Cache steps on the outputElement to make it available for the next call\n",
              "  // to uploadFilesContinue from Python.\n",
              "  outputElement.steps = steps;\n",
              "\n",
              "  return _uploadFilesContinue(outputId);\n",
              "}\n",
              "\n",
              "// This is roughly an async generator (not supported in the browser yet),\n",
              "// where there are multiple asynchronous steps and the Python side is going\n",
              "// to poll for completion of each step.\n",
              "// This uses a Promise to block the python side on completion of each step,\n",
              "// then passes the result of the previous step as the input to the next step.\n",
              "function _uploadFilesContinue(outputId) {\n",
              "  const outputElement = document.getElementById(outputId);\n",
              "  const steps = outputElement.steps;\n",
              "\n",
              "  const next = steps.next(outputElement.lastPromiseValue);\n",
              "  return Promise.resolve(next.value.promise).then((value) => {\n",
              "    // Cache the last promise value to make it available to the next\n",
              "    // step of the generator.\n",
              "    outputElement.lastPromiseValue = value;\n",
              "    return next.value.response;\n",
              "  });\n",
              "}\n",
              "\n",
              "/**\n",
              " * Generator function which is called between each async step of the upload\n",
              " * process.\n",
              " * @param {string} inputId Element ID of the input file picker element.\n",
              " * @param {string} outputId Element ID of the output display.\n",
              " * @return {!Iterable<!Object>} Iterable of next steps.\n",
              " */\n",
              "function* uploadFilesStep(inputId, outputId) {\n",
              "  const inputElement = document.getElementById(inputId);\n",
              "  inputElement.disabled = false;\n",
              "\n",
              "  const outputElement = document.getElementById(outputId);\n",
              "  outputElement.innerHTML = '';\n",
              "\n",
              "  const pickedPromise = new Promise((resolve) => {\n",
              "    inputElement.addEventListener('change', (e) => {\n",
              "      resolve(e.target.files);\n",
              "    });\n",
              "  });\n",
              "\n",
              "  const cancel = document.createElement('button');\n",
              "  inputElement.parentElement.appendChild(cancel);\n",
              "  cancel.textContent = 'Cancel upload';\n",
              "  const cancelPromise = new Promise((resolve) => {\n",
              "    cancel.onclick = () => {\n",
              "      resolve(null);\n",
              "    };\n",
              "  });\n",
              "\n",
              "  // Wait for the user to pick the files.\n",
              "  const files = yield {\n",
              "    promise: Promise.race([pickedPromise, cancelPromise]),\n",
              "    response: {\n",
              "      action: 'starting',\n",
              "    }\n",
              "  };\n",
              "\n",
              "  cancel.remove();\n",
              "\n",
              "  // Disable the input element since further picks are not allowed.\n",
              "  inputElement.disabled = true;\n",
              "\n",
              "  if (!files) {\n",
              "    return {\n",
              "      response: {\n",
              "        action: 'complete',\n",
              "      }\n",
              "    };\n",
              "  }\n",
              "\n",
              "  for (const file of files) {\n",
              "    const li = document.createElement('li');\n",
              "    li.append(span(file.name, {fontWeight: 'bold'}));\n",
              "    li.append(span(\n",
              "        `(${file.type || 'n/a'}) - ${file.size} bytes, ` +\n",
              "        `last modified: ${\n",
              "            file.lastModifiedDate ? file.lastModifiedDate.toLocaleDateString() :\n",
              "                                    'n/a'} - `));\n",
              "    const percent = span('0% done');\n",
              "    li.appendChild(percent);\n",
              "\n",
              "    outputElement.appendChild(li);\n",
              "\n",
              "    const fileDataPromise = new Promise((resolve) => {\n",
              "      const reader = new FileReader();\n",
              "      reader.onload = (e) => {\n",
              "        resolve(e.target.result);\n",
              "      };\n",
              "      reader.readAsArrayBuffer(file);\n",
              "    });\n",
              "    // Wait for the data to be ready.\n",
              "    let fileData = yield {\n",
              "      promise: fileDataPromise,\n",
              "      response: {\n",
              "        action: 'continue',\n",
              "      }\n",
              "    };\n",
              "\n",
              "    // Use a chunked sending to avoid message size limits. See b/62115660.\n",
              "    let position = 0;\n",
              "    do {\n",
              "      const length = Math.min(fileData.byteLength - position, MAX_PAYLOAD_SIZE);\n",
              "      const chunk = new Uint8Array(fileData, position, length);\n",
              "      position += length;\n",
              "\n",
              "      const base64 = btoa(String.fromCharCode.apply(null, chunk));\n",
              "      yield {\n",
              "        response: {\n",
              "          action: 'append',\n",
              "          file: file.name,\n",
              "          data: base64,\n",
              "        },\n",
              "      };\n",
              "\n",
              "      let percentDone = fileData.byteLength === 0 ?\n",
              "          100 :\n",
              "          Math.round((position / fileData.byteLength) * 100);\n",
              "      percent.textContent = `${percentDone}% done`;\n",
              "\n",
              "    } while (position < fileData.byteLength);\n",
              "  }\n",
              "\n",
              "  // All done.\n",
              "  yield {\n",
              "    response: {\n",
              "      action: 'complete',\n",
              "    }\n",
              "  };\n",
              "}\n",
              "\n",
              "scope.google = scope.google || {};\n",
              "scope.google.colab = scope.google.colab || {};\n",
              "scope.google.colab._files = {\n",
              "  _uploadFiles,\n",
              "  _uploadFilesContinue,\n",
              "};\n",
              "})(self);\n",
              "</script> "
            ]
          },
          "metadata": {}
        },
        {
          "output_type": "stream",
          "name": "stdout",
          "text": [
            "Saving clean_dataset.csv to clean_dataset (4).csv\n"
          ]
        }
      ]
    },
    {
      "cell_type": "code",
      "source": [],
      "metadata": {
        "id": "x8l22PdQtObT"
      },
      "execution_count": 67,
      "outputs": []
    },
    {
      "cell_type": "code",
      "source": [
        "filename = next(iter(uploaded))\n",
        "df = pd.read_csv(filename)\n",
        "df = organize_data(df)\n",
        "df = df.drop([\"id\"], axis=1)\n",
        "\n",
        "t = df[\"Label\"]\n",
        "X = df.drop([\"Label\"], axis=1)\n",
        "\n",
        "X_train, X_test, t_train, t_test = train_test_split(X, t, test_size=0.2,\n",
        "                                                    random_state=21)\n",
        "X_train, X_valid, t_train, t_valid = train_test_split(X_train, t_train,\n",
        "                                                      test_size=0.2,\n",
        "                                                      random_state=21)"
      ],
      "metadata": {
        "id": "X6i-89OabgKu"
      },
      "execution_count": null,
      "outputs": []
    },
    {
      "cell_type": "code",
      "source": [],
      "metadata": {
        "id": "hKvj_SphcJOY"
      },
      "execution_count": 68,
      "outputs": []
    },
    {
      "cell_type": "code",
      "source": [
        "X_train, t_train, X_test, t_test, X\n",
        "df = X\n",
        "X = X_train\n",
        "t = t_train\n",
        "keys_array = df.keys()\n",
        "print(\"panda shape:  \" + str(df.keys()))\n",
        "\n",
        "tree = DecisionTreeClassifier(criterion='entropy', max_depth=5,\n",
        "                              min_samples_split=2,\n",
        "                              random_state=1)\n",
        "tree.fit(X, t)\n",
        "accuracy_test = tree.score(X_test, t_test)\n",
        "print(\n",
        "    f\"accuracy with ('entropy', 5, 2): for testing: {accuracy_test}\")\n",
        "keys_list = keys_array.tolist()\n",
        "\n",
        "dot_data = treeViz.export_graphviz(tree,\n",
        "                                    feature_names=keys_list,\n",
        "                                    max_depth=5,\n",
        "                                    class_names=[\"Dubai\", \"New York City\",  \"Paris\", \"Rio de Janeiro\"],\n",
        "                                    filled=True,\n",
        "                                    rounded=True)\n",
        "\n",
        "graph = graphviz.Source(dot_data)\n",
        "display(graph)\n",
        "# graph.render(\"decision_tree\", format='png')  # Save the graph to a file\n",
        "# files.download(\"decision_tree.png\")  # Download the saved file"
      ],
      "metadata": {
        "colab": {
          "base_uri": "https://localhost:8080/",
          "height": 1000
        },
        "id": "CkyvvzwJc6xZ",
        "outputId": "779704ba-2530-4f32-b982-c3584fc5e4df"
      },
      "execution_count": 75,
      "outputs": [
        {
          "output_type": "stream",
          "name": "stdout",
          "text": [
            "panda shape:  Index(['Q1', 'Q2', 'Q3', 'Q4', 'Q7', 'Q8', 'Q9', 'Q5_Partner', 'Q5_Friends',\n",
            "       'Q5_Siblings',\n",
            "       ...\n",
            "       'finance', 'fromage', 'natural', 'unconditionally', 'pursuit', 'arts',\n",
            "       'delicate', 'janeiro', 'rude', 'despite'],\n",
            "      dtype='object', length=1424)\n",
            "accuracy with ('entropy', 5, 2): for testing: 0.8333333333333334\n"
          ]
        },
        {
          "output_type": "display_data",
          "data": {
            "image/svg+xml": "<?xml version=\"1.0\" encoding=\"UTF-8\" standalone=\"no\"?>\n<!DOCTYPE svg PUBLIC \"-//W3C//DTD SVG 1.1//EN\"\n \"http://www.w3.org/Graphics/SVG/1.1/DTD/svg11.dtd\">\n<!-- Generated by graphviz version 2.43.0 (0)\n -->\n<!-- Title: Tree Pages: 1 -->\n<svg width=\"4988pt\" height=\"671pt\"\n viewBox=\"0.00 0.00 4988.00 671.00\" xmlns=\"http://www.w3.org/2000/svg\" xmlns:xlink=\"http://www.w3.org/1999/xlink\">\n<g id=\"graph0\" class=\"graph\" transform=\"scale(1 1) rotate(0) translate(4 667)\">\n<title>Tree</title>\n<polygon fill=\"white\" stroke=\"transparent\" points=\"-4,4 -4,-667 4984,-667 4984,4 -4,4\"/>\n<!-- 0 -->\n<g id=\"node1\" class=\"node\">\n<title>0</title>\n<path fill=\"#ffffff\" stroke=\"black\" d=\"M2720.5,-663C2720.5,-663 2559.5,-663 2559.5,-663 2553.5,-663 2547.5,-657 2547.5,-651 2547.5,-651 2547.5,-592 2547.5,-592 2547.5,-586 2553.5,-580 2559.5,-580 2559.5,-580 2720.5,-580 2720.5,-580 2726.5,-580 2732.5,-586 2732.5,-592 2732.5,-592 2732.5,-651 2732.5,-651 2732.5,-657 2726.5,-663 2720.5,-663\"/>\n<text text-anchor=\"middle\" x=\"2640\" y=\"-647.8\" font-family=\"Helvetica,sans-Serif\" font-size=\"14.00\">Q6_Skyscrapers &lt;= 4.5</text>\n<text text-anchor=\"middle\" x=\"2640\" y=\"-632.8\" font-family=\"Helvetica,sans-Serif\" font-size=\"14.00\">entropy = 2.0</text>\n<text text-anchor=\"middle\" x=\"2640\" y=\"-617.8\" font-family=\"Helvetica,sans-Serif\" font-size=\"14.00\">samples = 939</text>\n<text text-anchor=\"middle\" x=\"2640\" y=\"-602.8\" font-family=\"Helvetica,sans-Serif\" font-size=\"14.00\">value = [240, 228, 239, 232]</text>\n<text text-anchor=\"middle\" x=\"2640\" y=\"-587.8\" font-family=\"Helvetica,sans-Serif\" font-size=\"14.00\">class = Dubai</text>\n</g>\n<!-- 1 -->\n<g id=\"node2\" class=\"node\">\n<title>1</title>\n<path fill=\"#fceefd\" stroke=\"black\" d=\"M1913,-544C1913,-544 1767,-544 1767,-544 1761,-544 1755,-538 1755,-532 1755,-532 1755,-473 1755,-473 1755,-467 1761,-461 1767,-461 1767,-461 1913,-461 1913,-461 1919,-461 1925,-467 1925,-473 1925,-473 1925,-532 1925,-532 1925,-538 1919,-544 1913,-544\"/>\n<text text-anchor=\"middle\" x=\"1840\" y=\"-528.8\" font-family=\"Helvetica,sans-Serif\" font-size=\"14.00\">Q7 &lt;= 17.5</text>\n<text text-anchor=\"middle\" x=\"1840\" y=\"-513.8\" font-family=\"Helvetica,sans-Serif\" font-size=\"14.00\">entropy = 1.521</text>\n<text text-anchor=\"middle\" x=\"1840\" y=\"-498.8\" font-family=\"Helvetica,sans-Serif\" font-size=\"14.00\">samples = 474</text>\n<text text-anchor=\"middle\" x=\"1840\" y=\"-483.8\" font-family=\"Helvetica,sans-Serif\" font-size=\"14.00\">value = [18, 40, 196, 220]</text>\n<text text-anchor=\"middle\" x=\"1840\" y=\"-468.8\" font-family=\"Helvetica,sans-Serif\" font-size=\"14.00\">class = Rio de Janeiro</text>\n</g>\n<!-- 0&#45;&gt;1 -->\n<g id=\"edge1\" class=\"edge\">\n<title>0&#45;&gt;1</title>\n<path fill=\"none\" stroke=\"black\" d=\"M2547.45,-606.96C2394.31,-584.57 2089.79,-540.03 1935.03,-517.4\"/>\n<polygon fill=\"black\" stroke=\"black\" points=\"1935.46,-513.92 1925.06,-515.94 1934.45,-520.85 1935.46,-513.92\"/>\n<text text-anchor=\"middle\" x=\"1939.99\" y=\"-532.29\" font-family=\"Helvetica,sans-Serif\" font-size=\"14.00\">True</text>\n</g>\n<!-- 32 -->\n<g id=\"node33\" class=\"node\">\n<title>32</title>\n<path fill=\"#fcf0e7\" stroke=\"black\" d=\"M3122,-544C3122,-544 2976,-544 2976,-544 2970,-544 2964,-538 2964,-532 2964,-532 2964,-473 2964,-473 2964,-467 2970,-461 2976,-461 2976,-461 3122,-461 3122,-461 3128,-461 3134,-467 3134,-473 3134,-473 3134,-532 3134,-532 3134,-538 3128,-544 3122,-544\"/>\n<text text-anchor=\"middle\" x=\"3049\" y=\"-528.8\" font-family=\"Helvetica,sans-Serif\" font-size=\"14.00\">Q7 &lt;= 14.5</text>\n<text text-anchor=\"middle\" x=\"3049\" y=\"-513.8\" font-family=\"Helvetica,sans-Serif\" font-size=\"14.00\">entropy = 1.491</text>\n<text text-anchor=\"middle\" x=\"3049\" y=\"-498.8\" font-family=\"Helvetica,sans-Serif\" font-size=\"14.00\">samples = 465</text>\n<text text-anchor=\"middle\" x=\"3049\" y=\"-483.8\" font-family=\"Helvetica,sans-Serif\" font-size=\"14.00\">value = [222, 188, 43, 12]</text>\n<text text-anchor=\"middle\" x=\"3049\" y=\"-468.8\" font-family=\"Helvetica,sans-Serif\" font-size=\"14.00\">class = Dubai</text>\n</g>\n<!-- 0&#45;&gt;32 -->\n<g id=\"edge32\" class=\"edge\">\n<title>0&#45;&gt;32</title>\n<path fill=\"none\" stroke=\"black\" d=\"M2732.55,-594.02C2798.7,-575.1 2887.43,-549.72 2954.1,-530.65\"/>\n<polygon fill=\"black\" stroke=\"black\" points=\"2955.12,-534 2963.77,-527.88 2953.19,-527.27 2955.12,-534\"/>\n<text text-anchor=\"middle\" x=\"2951.64\" y=\"-546.04\" font-family=\"Helvetica,sans-Serif\" font-size=\"14.00\">False</text>\n</g>\n<!-- 2 -->\n<g id=\"node3\" class=\"node\">\n<title>2</title>\n<path fill=\"#73baed\" stroke=\"black\" d=\"M1003.5,-425C1003.5,-425 872.5,-425 872.5,-425 866.5,-425 860.5,-419 860.5,-413 860.5,-413 860.5,-354 860.5,-354 860.5,-348 866.5,-342 872.5,-342 872.5,-342 1003.5,-342 1003.5,-342 1009.5,-342 1015.5,-348 1015.5,-354 1015.5,-354 1015.5,-413 1015.5,-413 1015.5,-419 1009.5,-425 1003.5,-425\"/>\n<text text-anchor=\"middle\" x=\"938\" y=\"-409.8\" font-family=\"Helvetica,sans-Serif\" font-size=\"14.00\">Q6_Cuisine &lt;= 4.5</text>\n<text text-anchor=\"middle\" x=\"938\" y=\"-394.8\" font-family=\"Helvetica,sans-Serif\" font-size=\"14.00\">entropy = 1.126</text>\n<text text-anchor=\"middle\" x=\"938\" y=\"-379.8\" font-family=\"Helvetica,sans-Serif\" font-size=\"14.00\">samples = 245</text>\n<text text-anchor=\"middle\" x=\"938\" y=\"-364.8\" font-family=\"Helvetica,sans-Serif\" font-size=\"14.00\">value = [3, 32, 183, 27]</text>\n<text text-anchor=\"middle\" x=\"938\" y=\"-349.8\" font-family=\"Helvetica,sans-Serif\" font-size=\"14.00\">class = Paris</text>\n</g>\n<!-- 1&#45;&gt;2 -->\n<g id=\"edge2\" class=\"edge\">\n<title>1&#45;&gt;2</title>\n<path fill=\"none\" stroke=\"black\" d=\"M1754.74,-490.44C1583.47,-468.23 1199.27,-418.39 1025.87,-395.9\"/>\n<polygon fill=\"black\" stroke=\"black\" points=\"1026.13,-392.4 1015.76,-394.59 1025.23,-399.34 1026.13,-392.4\"/>\n</g>\n<!-- 17 -->\n<g id=\"node18\" class=\"node\">\n<title>17</title>\n<path fill=\"#de5ae9\" stroke=\"black\" d=\"M1905.5,-425C1905.5,-425 1774.5,-425 1774.5,-425 1768.5,-425 1762.5,-419 1762.5,-413 1762.5,-413 1762.5,-354 1762.5,-354 1762.5,-348 1768.5,-342 1774.5,-342 1774.5,-342 1905.5,-342 1905.5,-342 1911.5,-342 1917.5,-348 1917.5,-354 1917.5,-354 1917.5,-413 1917.5,-413 1917.5,-419 1911.5,-425 1905.5,-425\"/>\n<text text-anchor=\"middle\" x=\"1840\" y=\"-409.8\" font-family=\"Helvetica,sans-Serif\" font-size=\"14.00\">Q6_Carnival &lt;= 3.5</text>\n<text text-anchor=\"middle\" x=\"1840\" y=\"-394.8\" font-family=\"Helvetica,sans-Serif\" font-size=\"14.00\">entropy = 0.87</text>\n<text text-anchor=\"middle\" x=\"1840\" y=\"-379.8\" font-family=\"Helvetica,sans-Serif\" font-size=\"14.00\">samples = 229</text>\n<text text-anchor=\"middle\" x=\"1840\" y=\"-364.8\" font-family=\"Helvetica,sans-Serif\" font-size=\"14.00\">value = [15, 8, 13, 193]</text>\n<text text-anchor=\"middle\" x=\"1840\" y=\"-349.8\" font-family=\"Helvetica,sans-Serif\" font-size=\"14.00\">class = Rio de Janeiro</text>\n</g>\n<!-- 1&#45;&gt;17 -->\n<g id=\"edge17\" class=\"edge\">\n<title>1&#45;&gt;17</title>\n<path fill=\"none\" stroke=\"black\" d=\"M1840,-460.91C1840,-452.65 1840,-443.86 1840,-435.3\"/>\n<polygon fill=\"black\" stroke=\"black\" points=\"1843.5,-435.02 1840,-425.02 1836.5,-435.02 1843.5,-435.02\"/>\n</g>\n<!-- 3 -->\n<g id=\"node4\" class=\"node\">\n<title>3</title>\n<path fill=\"#cae5f8\" stroke=\"black\" d=\"M526.5,-306C526.5,-306 403.5,-306 403.5,-306 397.5,-306 391.5,-300 391.5,-294 391.5,-294 391.5,-235 391.5,-235 391.5,-229 397.5,-223 403.5,-223 403.5,-223 526.5,-223 526.5,-223 532.5,-223 538.5,-229 538.5,-235 538.5,-235 538.5,-294 538.5,-294 538.5,-300 532.5,-306 526.5,-306\"/>\n<text text-anchor=\"middle\" x=\"465\" y=\"-290.8\" font-family=\"Helvetica,sans-Serif\" font-size=\"14.00\">Q1 &lt;= 4.5</text>\n<text text-anchor=\"middle\" x=\"465\" y=\"-275.8\" font-family=\"Helvetica,sans-Serif\" font-size=\"14.00\">entropy = 1.679</text>\n<text text-anchor=\"middle\" x=\"465\" y=\"-260.8\" font-family=\"Helvetica,sans-Serif\" font-size=\"14.00\">samples = 91</text>\n<text text-anchor=\"middle\" x=\"465\" y=\"-245.8\" font-family=\"Helvetica,sans-Serif\" font-size=\"14.00\">value = [3, 24, 42, 22]</text>\n<text text-anchor=\"middle\" x=\"465\" y=\"-230.8\" font-family=\"Helvetica,sans-Serif\" font-size=\"14.00\">class = Paris</text>\n</g>\n<!-- 2&#45;&gt;3 -->\n<g id=\"edge3\" class=\"edge\">\n<title>2&#45;&gt;3</title>\n<path fill=\"none\" stroke=\"black\" d=\"M860.42,-363.31C774.62,-342.09 636.87,-308.01 548.69,-286.2\"/>\n<polygon fill=\"black\" stroke=\"black\" points=\"549.27,-282.74 538.72,-283.74 547.59,-289.53 549.27,-282.74\"/>\n</g>\n<!-- 10 -->\n<g id=\"node11\" class=\"node\">\n<title>10</title>\n<path fill=\"#4ba6e7\" stroke=\"black\" d=\"M1010.5,-306C1010.5,-306 865.5,-306 865.5,-306 859.5,-306 853.5,-300 853.5,-294 853.5,-294 853.5,-235 853.5,-235 853.5,-229 859.5,-223 865.5,-223 865.5,-223 1010.5,-223 1010.5,-223 1016.5,-223 1022.5,-229 1022.5,-235 1022.5,-235 1022.5,-294 1022.5,-294 1022.5,-300 1016.5,-306 1010.5,-306\"/>\n<text text-anchor=\"middle\" x=\"938\" y=\"-290.8\" font-family=\"Helvetica,sans-Serif\" font-size=\"14.00\">Q6_Art and Music &lt;= 4.5</text>\n<text text-anchor=\"middle\" x=\"938\" y=\"-275.8\" font-family=\"Helvetica,sans-Serif\" font-size=\"14.00\">entropy = 0.499</text>\n<text text-anchor=\"middle\" x=\"938\" y=\"-260.8\" font-family=\"Helvetica,sans-Serif\" font-size=\"14.00\">samples = 154</text>\n<text text-anchor=\"middle\" x=\"938\" y=\"-245.8\" font-family=\"Helvetica,sans-Serif\" font-size=\"14.00\">value = [0, 8, 141, 5]</text>\n<text text-anchor=\"middle\" x=\"938\" y=\"-230.8\" font-family=\"Helvetica,sans-Serif\" font-size=\"14.00\">class = Paris</text>\n</g>\n<!-- 2&#45;&gt;10 -->\n<g id=\"edge10\" class=\"edge\">\n<title>2&#45;&gt;10</title>\n<path fill=\"none\" stroke=\"black\" d=\"M938,-341.91C938,-333.65 938,-324.86 938,-316.3\"/>\n<polygon fill=\"black\" stroke=\"black\" points=\"941.5,-316.02 938,-306.02 934.5,-316.02 941.5,-316.02\"/>\n</g>\n<!-- 4 -->\n<g id=\"node5\" class=\"node\">\n<title>4</title>\n<path fill=\"#f5cbf8\" stroke=\"black\" d=\"M288,-187C288,-187 162,-187 162,-187 156,-187 150,-181 150,-175 150,-175 150,-116 150,-116 150,-110 156,-104 162,-104 162,-104 288,-104 288,-104 294,-104 300,-110 300,-116 300,-116 300,-175 300,-175 300,-181 294,-187 288,-187\"/>\n<text text-anchor=\"middle\" x=\"225\" y=\"-171.8\" font-family=\"Helvetica,sans-Serif\" font-size=\"14.00\">Q6_Sport &lt;= 3.5</text>\n<text text-anchor=\"middle\" x=\"225\" y=\"-156.8\" font-family=\"Helvetica,sans-Serif\" font-size=\"14.00\">entropy = 1.379</text>\n<text text-anchor=\"middle\" x=\"225\" y=\"-141.8\" font-family=\"Helvetica,sans-Serif\" font-size=\"14.00\">samples = 37</text>\n<text text-anchor=\"middle\" x=\"225\" y=\"-126.8\" font-family=\"Helvetica,sans-Serif\" font-size=\"14.00\">value = [2, 1, 14, 20]</text>\n<text text-anchor=\"middle\" x=\"225\" y=\"-111.8\" font-family=\"Helvetica,sans-Serif\" font-size=\"14.00\">class = Rio de Janeiro</text>\n</g>\n<!-- 3&#45;&gt;4 -->\n<g id=\"edge4\" class=\"edge\">\n<title>3&#45;&gt;4</title>\n<path fill=\"none\" stroke=\"black\" d=\"M391.36,-227.6C365.48,-214.98 336.19,-200.71 309.49,-187.69\"/>\n<polygon fill=\"black\" stroke=\"black\" points=\"310.68,-184.38 300.16,-183.14 307.61,-190.67 310.68,-184.38\"/>\n</g>\n<!-- 7 -->\n<g id=\"node8\" class=\"node\">\n<title>7</title>\n<path fill=\"#dfeffb\" stroke=\"black\" d=\"M523,-187C523,-187 407,-187 407,-187 401,-187 395,-181 395,-175 395,-175 395,-116 395,-116 395,-110 401,-104 407,-104 407,-104 523,-104 523,-104 529,-104 535,-110 535,-116 535,-116 535,-175 535,-175 535,-181 529,-187 523,-187\"/>\n<text text-anchor=\"middle\" x=\"465\" y=\"-171.8\" font-family=\"Helvetica,sans-Serif\" font-size=\"14.00\">Q5_Friends &lt;= 0.5</text>\n<text text-anchor=\"middle\" x=\"465\" y=\"-156.8\" font-family=\"Helvetica,sans-Serif\" font-size=\"14.00\">entropy = 1.298</text>\n<text text-anchor=\"middle\" x=\"465\" y=\"-141.8\" font-family=\"Helvetica,sans-Serif\" font-size=\"14.00\">samples = 54</text>\n<text text-anchor=\"middle\" x=\"465\" y=\"-126.8\" font-family=\"Helvetica,sans-Serif\" font-size=\"14.00\">value = [1, 23, 28, 2]</text>\n<text text-anchor=\"middle\" x=\"465\" y=\"-111.8\" font-family=\"Helvetica,sans-Serif\" font-size=\"14.00\">class = Paris</text>\n</g>\n<!-- 3&#45;&gt;7 -->\n<g id=\"edge7\" class=\"edge\">\n<title>3&#45;&gt;7</title>\n<path fill=\"none\" stroke=\"black\" d=\"M465,-222.91C465,-214.65 465,-205.86 465,-197.3\"/>\n<polygon fill=\"black\" stroke=\"black\" points=\"468.5,-197.02 465,-187.02 461.5,-197.02 468.5,-197.02\"/>\n</g>\n<!-- 5 -->\n<g id=\"node6\" class=\"node\">\n<title>5</title>\n<path fill=\"#61b1ea\" stroke=\"black\" d=\"M120,-68C120,-68 12,-68 12,-68 6,-68 0,-62 0,-56 0,-56 0,-12 0,-12 0,-6 6,0 12,0 12,0 120,0 120,0 126,0 132,-6 132,-12 132,-12 132,-56 132,-56 132,-62 126,-68 120,-68\"/>\n<text text-anchor=\"middle\" x=\"66\" y=\"-52.8\" font-family=\"Helvetica,sans-Serif\" font-size=\"14.00\">entropy = 0.65</text>\n<text text-anchor=\"middle\" x=\"66\" y=\"-37.8\" font-family=\"Helvetica,sans-Serif\" font-size=\"14.00\">samples = 12</text>\n<text text-anchor=\"middle\" x=\"66\" y=\"-22.8\" font-family=\"Helvetica,sans-Serif\" font-size=\"14.00\">value = [2, 0, 10, 0]</text>\n<text text-anchor=\"middle\" x=\"66\" y=\"-7.8\" font-family=\"Helvetica,sans-Serif\" font-size=\"14.00\">class = Paris</text>\n</g>\n<!-- 4&#45;&gt;5 -->\n<g id=\"edge5\" class=\"edge\">\n<title>4&#45;&gt;5</title>\n<path fill=\"none\" stroke=\"black\" d=\"M165.79,-103.73C151.68,-94.01 136.66,-83.66 122.66,-74.02\"/>\n<polygon fill=\"black\" stroke=\"black\" points=\"124.32,-70.91 114.1,-68.13 120.35,-76.68 124.32,-70.91\"/>\n</g>\n<!-- 6 -->\n<g id=\"node7\" class=\"node\">\n<title>6</title>\n<path fill=\"#e168eb\" stroke=\"black\" d=\"M288,-68C288,-68 162,-68 162,-68 156,-68 150,-62 150,-56 150,-56 150,-12 150,-12 150,-6 156,0 162,0 162,0 288,0 288,0 294,0 300,-6 300,-12 300,-12 300,-56 300,-56 300,-62 294,-68 288,-68\"/>\n<text text-anchor=\"middle\" x=\"225\" y=\"-52.8\" font-family=\"Helvetica,sans-Serif\" font-size=\"14.00\">entropy = 0.866</text>\n<text text-anchor=\"middle\" x=\"225\" y=\"-37.8\" font-family=\"Helvetica,sans-Serif\" font-size=\"14.00\">samples = 25</text>\n<text text-anchor=\"middle\" x=\"225\" y=\"-22.8\" font-family=\"Helvetica,sans-Serif\" font-size=\"14.00\">value = [0, 1, 4, 20]</text>\n<text text-anchor=\"middle\" x=\"225\" y=\"-7.8\" font-family=\"Helvetica,sans-Serif\" font-size=\"14.00\">class = Rio de Janeiro</text>\n</g>\n<!-- 4&#45;&gt;6 -->\n<g id=\"edge6\" class=\"edge\">\n<title>4&#45;&gt;6</title>\n<path fill=\"none\" stroke=\"black\" d=\"M225,-103.73C225,-95.52 225,-86.86 225,-78.56\"/>\n<polygon fill=\"black\" stroke=\"black\" points=\"228.5,-78.3 225,-68.3 221.5,-78.3 228.5,-78.3\"/>\n</g>\n<!-- 8 -->\n<g id=\"node9\" class=\"node\">\n<title>8</title>\n<path fill=\"#399de5\" stroke=\"black\" d=\"M438,-68C438,-68 330,-68 330,-68 324,-68 318,-62 318,-56 318,-56 318,-12 318,-12 318,-6 324,0 330,0 330,0 438,0 438,0 444,0 450,-6 450,-12 450,-12 450,-56 450,-56 450,-62 444,-68 438,-68\"/>\n<text text-anchor=\"middle\" x=\"384\" y=\"-52.8\" font-family=\"Helvetica,sans-Serif\" font-size=\"14.00\">entropy = 0.0</text>\n<text text-anchor=\"middle\" x=\"384\" y=\"-37.8\" font-family=\"Helvetica,sans-Serif\" font-size=\"14.00\">samples = 17</text>\n<text text-anchor=\"middle\" x=\"384\" y=\"-22.8\" font-family=\"Helvetica,sans-Serif\" font-size=\"14.00\">value = [0, 0, 17, 0]</text>\n<text text-anchor=\"middle\" x=\"384\" y=\"-7.8\" font-family=\"Helvetica,sans-Serif\" font-size=\"14.00\">class = Paris</text>\n</g>\n<!-- 7&#45;&gt;8 -->\n<g id=\"edge8\" class=\"edge\">\n<title>7&#45;&gt;8</title>\n<path fill=\"none\" stroke=\"black\" d=\"M434.84,-103.73C428.23,-94.79 421.22,-85.32 414.59,-76.36\"/>\n<polygon fill=\"black\" stroke=\"black\" points=\"417.39,-74.26 408.63,-68.3 411.77,-78.42 417.39,-74.26\"/>\n</g>\n<!-- 9 -->\n<g id=\"node10\" class=\"node\">\n<title>9</title>\n<path fill=\"#aaf3a4\" stroke=\"black\" d=\"M604,-68C604,-68 480,-68 480,-68 474,-68 468,-62 468,-56 468,-56 468,-12 468,-12 468,-6 474,0 480,0 480,0 604,0 604,0 610,0 616,-6 616,-12 616,-12 616,-56 616,-56 616,-62 610,-68 604,-68\"/>\n<text text-anchor=\"middle\" x=\"542\" y=\"-52.8\" font-family=\"Helvetica,sans-Serif\" font-size=\"14.00\">entropy = 1.315</text>\n<text text-anchor=\"middle\" x=\"542\" y=\"-37.8\" font-family=\"Helvetica,sans-Serif\" font-size=\"14.00\">samples = 37</text>\n<text text-anchor=\"middle\" x=\"542\" y=\"-22.8\" font-family=\"Helvetica,sans-Serif\" font-size=\"14.00\">value = [1, 23, 11, 2]</text>\n<text text-anchor=\"middle\" x=\"542\" y=\"-7.8\" font-family=\"Helvetica,sans-Serif\" font-size=\"14.00\">class = New York City</text>\n</g>\n<!-- 7&#45;&gt;9 -->\n<g id=\"edge9\" class=\"edge\">\n<title>7&#45;&gt;9</title>\n<path fill=\"none\" stroke=\"black\" d=\"M493.67,-103.73C499.89,-94.88 506.48,-85.51 512.73,-76.63\"/>\n<polygon fill=\"black\" stroke=\"black\" points=\"515.69,-78.49 518.58,-68.3 509.97,-74.47 515.69,-78.49\"/>\n</g>\n<!-- 11 -->\n<g id=\"node12\" class=\"node\">\n<title>11</title>\n<path fill=\"#c2e1f7\" stroke=\"black\" d=\"M915,-187C915,-187 807,-187 807,-187 801,-187 795,-181 795,-175 795,-175 795,-116 795,-116 795,-110 801,-104 807,-104 807,-104 915,-104 915,-104 921,-104 927,-110 927,-116 927,-116 927,-175 927,-175 927,-181 921,-187 915,-187\"/>\n<text text-anchor=\"middle\" x=\"861\" y=\"-171.8\" font-family=\"Helvetica,sans-Serif\" font-size=\"14.00\">Q3 &lt;= 3.5</text>\n<text text-anchor=\"middle\" x=\"861\" y=\"-156.8\" font-family=\"Helvetica,sans-Serif\" font-size=\"14.00\">entropy = 1.433</text>\n<text text-anchor=\"middle\" x=\"861\" y=\"-141.8\" font-family=\"Helvetica,sans-Serif\" font-size=\"14.00\">samples = 19</text>\n<text text-anchor=\"middle\" x=\"861\" y=\"-126.8\" font-family=\"Helvetica,sans-Serif\" font-size=\"14.00\">value = [0, 6, 10, 3]</text>\n<text text-anchor=\"middle\" x=\"861\" y=\"-111.8\" font-family=\"Helvetica,sans-Serif\" font-size=\"14.00\">class = Paris</text>\n</g>\n<!-- 10&#45;&gt;11 -->\n<g id=\"edge11\" class=\"edge\">\n<title>10&#45;&gt;11</title>\n<path fill=\"none\" stroke=\"black\" d=\"M911.29,-222.91C905.49,-214.1 899.3,-204.7 893.32,-195.61\"/>\n<polygon fill=\"black\" stroke=\"black\" points=\"896.09,-193.45 887.67,-187.02 890.24,-197.3 896.09,-193.45\"/>\n</g>\n<!-- 14 -->\n<g id=\"node15\" class=\"node\">\n<title>14</title>\n<path fill=\"#3fa0e6\" stroke=\"black\" d=\"M1073,-187C1073,-187 957,-187 957,-187 951,-187 945,-181 945,-175 945,-175 945,-116 945,-116 945,-110 951,-104 957,-104 957,-104 1073,-104 1073,-104 1079,-104 1085,-110 1085,-116 1085,-116 1085,-175 1085,-175 1085,-181 1079,-187 1073,-187\"/>\n<text text-anchor=\"middle\" x=\"1015\" y=\"-171.8\" font-family=\"Helvetica,sans-Serif\" font-size=\"14.00\">Q8 &lt;= 7.5</text>\n<text text-anchor=\"middle\" x=\"1015\" y=\"-156.8\" font-family=\"Helvetica,sans-Serif\" font-size=\"14.00\">entropy = 0.222</text>\n<text text-anchor=\"middle\" x=\"1015\" y=\"-141.8\" font-family=\"Helvetica,sans-Serif\" font-size=\"14.00\">samples = 135</text>\n<text text-anchor=\"middle\" x=\"1015\" y=\"-126.8\" font-family=\"Helvetica,sans-Serif\" font-size=\"14.00\">value = [0, 2, 131, 2]</text>\n<text text-anchor=\"middle\" x=\"1015\" y=\"-111.8\" font-family=\"Helvetica,sans-Serif\" font-size=\"14.00\">class = Paris</text>\n</g>\n<!-- 10&#45;&gt;14 -->\n<g id=\"edge14\" class=\"edge\">\n<title>10&#45;&gt;14</title>\n<path fill=\"none\" stroke=\"black\" d=\"M964.71,-222.91C970.51,-214.1 976.7,-204.7 982.68,-195.61\"/>\n<polygon fill=\"black\" stroke=\"black\" points=\"985.76,-197.3 988.33,-187.02 979.91,-193.45 985.76,-197.3\"/>\n</g>\n<!-- 12 -->\n<g id=\"node13\" class=\"node\">\n<title>12</title>\n<path fill=\"#a3f29c\" stroke=\"black\" d=\"M770,-68C770,-68 646,-68 646,-68 640,-68 634,-62 634,-56 634,-56 634,-12 634,-12 634,-6 640,0 646,0 646,0 770,0 770,0 776,0 782,-6 782,-12 782,-12 782,-56 782,-56 782,-62 776,-68 770,-68\"/>\n<text text-anchor=\"middle\" x=\"708\" y=\"-52.8\" font-family=\"Helvetica,sans-Serif\" font-size=\"14.00\">entropy = 1.299</text>\n<text text-anchor=\"middle\" x=\"708\" y=\"-37.8\" font-family=\"Helvetica,sans-Serif\" font-size=\"14.00\">samples = 8</text>\n<text text-anchor=\"middle\" x=\"708\" y=\"-22.8\" font-family=\"Helvetica,sans-Serif\" font-size=\"14.00\">value = [0, 5, 1, 2]</text>\n<text text-anchor=\"middle\" x=\"708\" y=\"-7.8\" font-family=\"Helvetica,sans-Serif\" font-size=\"14.00\">class = New York City</text>\n</g>\n<!-- 11&#45;&gt;12 -->\n<g id=\"edge12\" class=\"edge\">\n<title>11&#45;&gt;12</title>\n<path fill=\"none\" stroke=\"black\" d=\"M804.03,-103.73C790.52,-94.06 776.14,-83.77 762.73,-74.17\"/>\n<polygon fill=\"black\" stroke=\"black\" points=\"764.7,-71.27 754.53,-68.3 760.62,-76.97 764.7,-71.27\"/>\n</g>\n<!-- 13 -->\n<g id=\"node14\" class=\"node\">\n<title>13</title>\n<path fill=\"#61b1ea\" stroke=\"black\" d=\"M913.5,-68C913.5,-68 812.5,-68 812.5,-68 806.5,-68 800.5,-62 800.5,-56 800.5,-56 800.5,-12 800.5,-12 800.5,-6 806.5,0 812.5,0 812.5,0 913.5,0 913.5,0 919.5,0 925.5,-6 925.5,-12 925.5,-12 925.5,-56 925.5,-56 925.5,-62 919.5,-68 913.5,-68\"/>\n<text text-anchor=\"middle\" x=\"863\" y=\"-52.8\" font-family=\"Helvetica,sans-Serif\" font-size=\"14.00\">entropy = 0.866</text>\n<text text-anchor=\"middle\" x=\"863\" y=\"-37.8\" font-family=\"Helvetica,sans-Serif\" font-size=\"14.00\">samples = 11</text>\n<text text-anchor=\"middle\" x=\"863\" y=\"-22.8\" font-family=\"Helvetica,sans-Serif\" font-size=\"14.00\">value = [0, 1, 9, 1]</text>\n<text text-anchor=\"middle\" x=\"863\" y=\"-7.8\" font-family=\"Helvetica,sans-Serif\" font-size=\"14.00\">class = Paris</text>\n</g>\n<!-- 11&#45;&gt;13 -->\n<g id=\"edge13\" class=\"edge\">\n<title>11&#45;&gt;13</title>\n<path fill=\"none\" stroke=\"black\" d=\"M861.74,-103.73C861.89,-95.52 862.05,-86.86 862.2,-78.56\"/>\n<polygon fill=\"black\" stroke=\"black\" points=\"865.71,-78.36 862.39,-68.3 858.71,-78.23 865.71,-78.36\"/>\n</g>\n<!-- 15 -->\n<g id=\"node16\" class=\"node\">\n<title>15</title>\n<path fill=\"#3c9fe5\" stroke=\"black\" d=\"M1072,-68C1072,-68 956,-68 956,-68 950,-68 944,-62 944,-56 944,-56 944,-12 944,-12 944,-6 950,0 956,0 956,0 1072,0 1072,0 1078,0 1084,-6 1084,-12 1084,-12 1084,-56 1084,-56 1084,-62 1078,-68 1072,-68\"/>\n<text text-anchor=\"middle\" x=\"1014\" y=\"-52.8\" font-family=\"Helvetica,sans-Serif\" font-size=\"14.00\">entropy = 0.116</text>\n<text text-anchor=\"middle\" x=\"1014\" y=\"-37.8\" font-family=\"Helvetica,sans-Serif\" font-size=\"14.00\">samples = 128</text>\n<text text-anchor=\"middle\" x=\"1014\" y=\"-22.8\" font-family=\"Helvetica,sans-Serif\" font-size=\"14.00\">value = [0, 0, 126, 2]</text>\n<text text-anchor=\"middle\" x=\"1014\" y=\"-7.8\" font-family=\"Helvetica,sans-Serif\" font-size=\"14.00\">class = Paris</text>\n</g>\n<!-- 14&#45;&gt;15 -->\n<g id=\"edge15\" class=\"edge\">\n<title>14&#45;&gt;15</title>\n<path fill=\"none\" stroke=\"black\" d=\"M1014.63,-103.73C1014.55,-95.52 1014.47,-86.86 1014.4,-78.56\"/>\n<polygon fill=\"black\" stroke=\"black\" points=\"1017.9,-78.27 1014.3,-68.3 1010.9,-78.33 1017.9,-78.27\"/>\n</g>\n<!-- 16 -->\n<g id=\"node17\" class=\"node\">\n<title>16</title>\n<path fill=\"#88c4ef\" stroke=\"black\" d=\"M1215.5,-68C1215.5,-68 1114.5,-68 1114.5,-68 1108.5,-68 1102.5,-62 1102.5,-56 1102.5,-56 1102.5,-12 1102.5,-12 1102.5,-6 1108.5,0 1114.5,0 1114.5,0 1215.5,0 1215.5,0 1221.5,0 1227.5,-6 1227.5,-12 1227.5,-12 1227.5,-56 1227.5,-56 1227.5,-62 1221.5,-68 1215.5,-68\"/>\n<text text-anchor=\"middle\" x=\"1165\" y=\"-52.8\" font-family=\"Helvetica,sans-Serif\" font-size=\"14.00\">entropy = 0.863</text>\n<text text-anchor=\"middle\" x=\"1165\" y=\"-37.8\" font-family=\"Helvetica,sans-Serif\" font-size=\"14.00\">samples = 7</text>\n<text text-anchor=\"middle\" x=\"1165\" y=\"-22.8\" font-family=\"Helvetica,sans-Serif\" font-size=\"14.00\">value = [0, 2, 5, 0]</text>\n<text text-anchor=\"middle\" x=\"1165\" y=\"-7.8\" font-family=\"Helvetica,sans-Serif\" font-size=\"14.00\">class = Paris</text>\n</g>\n<!-- 14&#45;&gt;16 -->\n<g id=\"edge16\" class=\"edge\">\n<title>14&#45;&gt;16</title>\n<path fill=\"none\" stroke=\"black\" d=\"M1070.85,-103.73C1083.97,-94.15 1097.93,-83.96 1110.97,-74.44\"/>\n<polygon fill=\"black\" stroke=\"black\" points=\"1113.37,-77.02 1119.38,-68.3 1109.24,-71.37 1113.37,-77.02\"/>\n</g>\n<!-- 18 -->\n<g id=\"node19\" class=\"node\">\n<title>18</title>\n<path fill=\"#f3c4f7\" stroke=\"black\" d=\"M1789,-306C1789,-306 1663,-306 1663,-306 1657,-306 1651,-300 1651,-294 1651,-294 1651,-235 1651,-235 1651,-229 1657,-223 1663,-223 1663,-223 1789,-223 1789,-223 1795,-223 1801,-229 1801,-235 1801,-235 1801,-294 1801,-294 1801,-300 1795,-306 1789,-306\"/>\n<text text-anchor=\"middle\" x=\"1726\" y=\"-290.8\" font-family=\"Helvetica,sans-Serif\" font-size=\"14.00\">Q6_Sport &lt;= 3.5</text>\n<text text-anchor=\"middle\" x=\"1726\" y=\"-275.8\" font-family=\"Helvetica,sans-Serif\" font-size=\"14.00\">entropy = 1.82</text>\n<text text-anchor=\"middle\" x=\"1726\" y=\"-260.8\" font-family=\"Helvetica,sans-Serif\" font-size=\"14.00\">samples = 52</text>\n<text text-anchor=\"middle\" x=\"1726\" y=\"-245.8\" font-family=\"Helvetica,sans-Serif\" font-size=\"14.00\">value = [10, 6, 12, 24]</text>\n<text text-anchor=\"middle\" x=\"1726\" y=\"-230.8\" font-family=\"Helvetica,sans-Serif\" font-size=\"14.00\">class = Rio de Janeiro</text>\n</g>\n<!-- 17&#45;&gt;18 -->\n<g id=\"edge18\" class=\"edge\">\n<title>17&#45;&gt;18</title>\n<path fill=\"none\" stroke=\"black\" d=\"M1800.45,-341.91C1791.43,-332.65 1781.76,-322.73 1772.49,-313.21\"/>\n<polygon fill=\"black\" stroke=\"black\" points=\"1774.97,-310.74 1765.48,-306.02 1769.95,-315.63 1774.97,-310.74\"/>\n</g>\n<!-- 25 -->\n<g id=\"node26\" class=\"node\">\n<title>25</title>\n<path fill=\"#d942e6\" stroke=\"black\" d=\"M2017,-306C2017,-306 1891,-306 1891,-306 1885,-306 1879,-300 1879,-294 1879,-294 1879,-235 1879,-235 1879,-229 1885,-223 1891,-223 1891,-223 2017,-223 2017,-223 2023,-223 2029,-229 2029,-235 2029,-235 2029,-294 2029,-294 2029,-300 2023,-306 2017,-306\"/>\n<text text-anchor=\"middle\" x=\"1954\" y=\"-290.8\" font-family=\"Helvetica,sans-Serif\" font-size=\"14.00\">Q4 &lt;= 2.5</text>\n<text text-anchor=\"middle\" x=\"1954\" y=\"-275.8\" font-family=\"Helvetica,sans-Serif\" font-size=\"14.00\">entropy = 0.324</text>\n<text text-anchor=\"middle\" x=\"1954\" y=\"-260.8\" font-family=\"Helvetica,sans-Serif\" font-size=\"14.00\">samples = 177</text>\n<text text-anchor=\"middle\" x=\"1954\" y=\"-245.8\" font-family=\"Helvetica,sans-Serif\" font-size=\"14.00\">value = [5, 2, 1, 169]</text>\n<text text-anchor=\"middle\" x=\"1954\" y=\"-230.8\" font-family=\"Helvetica,sans-Serif\" font-size=\"14.00\">class = Rio de Janeiro</text>\n</g>\n<!-- 17&#45;&gt;25 -->\n<g id=\"edge25\" class=\"edge\">\n<title>17&#45;&gt;25</title>\n<path fill=\"none\" stroke=\"black\" d=\"M1879.55,-341.91C1888.57,-332.65 1898.24,-322.73 1907.51,-313.21\"/>\n<polygon fill=\"black\" stroke=\"black\" points=\"1910.05,-315.63 1914.52,-306.02 1905.03,-310.74 1910.05,-315.63\"/>\n</g>\n<!-- 19 -->\n<g id=\"node20\" class=\"node\">\n<title>19</title>\n<path fill=\"#dbedfa\" stroke=\"black\" d=\"M1523.5,-187C1523.5,-187 1378.5,-187 1378.5,-187 1372.5,-187 1366.5,-181 1366.5,-175 1366.5,-175 1366.5,-116 1366.5,-116 1366.5,-110 1372.5,-104 1378.5,-104 1378.5,-104 1523.5,-104 1523.5,-104 1529.5,-104 1535.5,-110 1535.5,-116 1535.5,-116 1535.5,-175 1535.5,-175 1535.5,-181 1529.5,-187 1523.5,-187\"/>\n<text text-anchor=\"middle\" x=\"1451\" y=\"-171.8\" font-family=\"Helvetica,sans-Serif\" font-size=\"14.00\">Q6_Art and Music &lt;= 4.5</text>\n<text text-anchor=\"middle\" x=\"1451\" y=\"-156.8\" font-family=\"Helvetica,sans-Serif\" font-size=\"14.00\">entropy = 1.933</text>\n<text text-anchor=\"middle\" x=\"1451\" y=\"-141.8\" font-family=\"Helvetica,sans-Serif\" font-size=\"14.00\">samples = 29</text>\n<text text-anchor=\"middle\" x=\"1451\" y=\"-126.8\" font-family=\"Helvetica,sans-Serif\" font-size=\"14.00\">value = [7, 6, 11, 5]</text>\n<text text-anchor=\"middle\" x=\"1451\" y=\"-111.8\" font-family=\"Helvetica,sans-Serif\" font-size=\"14.00\">class = Paris</text>\n</g>\n<!-- 18&#45;&gt;19 -->\n<g id=\"edge19\" class=\"edge\">\n<title>18&#45;&gt;19</title>\n<path fill=\"none\" stroke=\"black\" d=\"M1650.86,-231.53C1618.29,-217.68 1579.81,-201.3 1545.36,-186.64\"/>\n<polygon fill=\"black\" stroke=\"black\" points=\"1546.33,-183.25 1535.75,-182.56 1543.58,-189.69 1546.33,-183.25\"/>\n</g>\n<!-- 22 -->\n<g id=\"node23\" class=\"node\">\n<title>22</title>\n<path fill=\"#df61ea\" stroke=\"black\" d=\"M1794,-187C1794,-187 1658,-187 1658,-187 1652,-187 1646,-181 1646,-175 1646,-175 1646,-116 1646,-116 1646,-110 1652,-104 1658,-104 1658,-104 1794,-104 1794,-104 1800,-104 1806,-110 1806,-116 1806,-116 1806,-175 1806,-175 1806,-181 1800,-187 1794,-187\"/>\n<text text-anchor=\"middle\" x=\"1726\" y=\"-171.8\" font-family=\"Helvetica,sans-Serif\" font-size=\"14.00\">Q6_Skyscrapers &lt;= 3.0</text>\n<text text-anchor=\"middle\" x=\"1726\" y=\"-156.8\" font-family=\"Helvetica,sans-Serif\" font-size=\"14.00\">entropy = 0.808</text>\n<text text-anchor=\"middle\" x=\"1726\" y=\"-141.8\" font-family=\"Helvetica,sans-Serif\" font-size=\"14.00\">samples = 23</text>\n<text text-anchor=\"middle\" x=\"1726\" y=\"-126.8\" font-family=\"Helvetica,sans-Serif\" font-size=\"14.00\">value = [3, 0, 1, 19]</text>\n<text text-anchor=\"middle\" x=\"1726\" y=\"-111.8\" font-family=\"Helvetica,sans-Serif\" font-size=\"14.00\">class = Rio de Janeiro</text>\n</g>\n<!-- 18&#45;&gt;22 -->\n<g id=\"edge22\" class=\"edge\">\n<title>18&#45;&gt;22</title>\n<path fill=\"none\" stroke=\"black\" d=\"M1726,-222.91C1726,-214.65 1726,-205.86 1726,-197.3\"/>\n<polygon fill=\"black\" stroke=\"black\" points=\"1729.5,-197.02 1726,-187.02 1722.5,-197.02 1729.5,-197.02\"/>\n</g>\n<!-- 20 -->\n<g id=\"node21\" class=\"node\">\n<title>20</title>\n<path fill=\"#fdf7f3\" stroke=\"black\" d=\"M1358.5,-68C1358.5,-68 1257.5,-68 1257.5,-68 1251.5,-68 1245.5,-62 1245.5,-56 1245.5,-56 1245.5,-12 1245.5,-12 1245.5,-6 1251.5,0 1257.5,0 1257.5,0 1358.5,0 1358.5,0 1364.5,0 1370.5,-6 1370.5,-12 1370.5,-12 1370.5,-56 1370.5,-56 1370.5,-62 1364.5,-68 1358.5,-68\"/>\n<text text-anchor=\"middle\" x=\"1308\" y=\"-52.8\" font-family=\"Helvetica,sans-Serif\" font-size=\"14.00\">entropy = 1.97</text>\n<text text-anchor=\"middle\" x=\"1308\" y=\"-37.8\" font-family=\"Helvetica,sans-Serif\" font-size=\"14.00\">samples = 22</text>\n<text text-anchor=\"middle\" x=\"1308\" y=\"-22.8\" font-family=\"Helvetica,sans-Serif\" font-size=\"14.00\">value = [7, 6, 4, 5]</text>\n<text text-anchor=\"middle\" x=\"1308\" y=\"-7.8\" font-family=\"Helvetica,sans-Serif\" font-size=\"14.00\">class = Dubai</text>\n</g>\n<!-- 19&#45;&gt;20 -->\n<g id=\"edge20\" class=\"edge\">\n<title>19&#45;&gt;20</title>\n<path fill=\"none\" stroke=\"black\" d=\"M1397.75,-103.73C1385.25,-94.15 1371.94,-83.96 1359.51,-74.44\"/>\n<polygon fill=\"black\" stroke=\"black\" points=\"1361.55,-71.6 1351.49,-68.3 1357.3,-77.16 1361.55,-71.6\"/>\n</g>\n<!-- 21 -->\n<g id=\"node22\" class=\"node\">\n<title>21</title>\n<path fill=\"#399de5\" stroke=\"black\" d=\"M1501.5,-68C1501.5,-68 1400.5,-68 1400.5,-68 1394.5,-68 1388.5,-62 1388.5,-56 1388.5,-56 1388.5,-12 1388.5,-12 1388.5,-6 1394.5,0 1400.5,0 1400.5,0 1501.5,0 1501.5,0 1507.5,0 1513.5,-6 1513.5,-12 1513.5,-12 1513.5,-56 1513.5,-56 1513.5,-62 1507.5,-68 1501.5,-68\"/>\n<text text-anchor=\"middle\" x=\"1451\" y=\"-52.8\" font-family=\"Helvetica,sans-Serif\" font-size=\"14.00\">entropy = 0.0</text>\n<text text-anchor=\"middle\" x=\"1451\" y=\"-37.8\" font-family=\"Helvetica,sans-Serif\" font-size=\"14.00\">samples = 7</text>\n<text text-anchor=\"middle\" x=\"1451\" y=\"-22.8\" font-family=\"Helvetica,sans-Serif\" font-size=\"14.00\">value = [0, 0, 7, 0]</text>\n<text text-anchor=\"middle\" x=\"1451\" y=\"-7.8\" font-family=\"Helvetica,sans-Serif\" font-size=\"14.00\">class = Paris</text>\n</g>\n<!-- 19&#45;&gt;21 -->\n<g id=\"edge21\" class=\"edge\">\n<title>19&#45;&gt;21</title>\n<path fill=\"none\" stroke=\"black\" d=\"M1451,-103.73C1451,-95.52 1451,-86.86 1451,-78.56\"/>\n<polygon fill=\"black\" stroke=\"black\" points=\"1454.5,-78.3 1451,-68.3 1447.5,-78.3 1454.5,-78.3\"/>\n</g>\n<!-- 23 -->\n<g id=\"node24\" class=\"node\">\n<title>23</title>\n<path fill=\"#db4ee8\" stroke=\"black\" d=\"M1670,-68C1670,-68 1544,-68 1544,-68 1538,-68 1532,-62 1532,-56 1532,-56 1532,-12 1532,-12 1532,-6 1538,0 1544,0 1544,0 1670,0 1670,0 1676,0 1682,-6 1682,-12 1682,-12 1682,-56 1682,-56 1682,-62 1676,-68 1670,-68\"/>\n<text text-anchor=\"middle\" x=\"1607\" y=\"-52.8\" font-family=\"Helvetica,sans-Serif\" font-size=\"14.00\">entropy = 0.454</text>\n<text text-anchor=\"middle\" x=\"1607\" y=\"-37.8\" font-family=\"Helvetica,sans-Serif\" font-size=\"14.00\">samples = 21</text>\n<text text-anchor=\"middle\" x=\"1607\" y=\"-22.8\" font-family=\"Helvetica,sans-Serif\" font-size=\"14.00\">value = [2, 0, 0, 19]</text>\n<text text-anchor=\"middle\" x=\"1607\" y=\"-7.8\" font-family=\"Helvetica,sans-Serif\" font-size=\"14.00\">class = Rio de Janeiro</text>\n</g>\n<!-- 22&#45;&gt;23 -->\n<g id=\"edge23\" class=\"edge\">\n<title>22&#45;&gt;23</title>\n<path fill=\"none\" stroke=\"black\" d=\"M1681.69,-103.73C1671.58,-94.42 1660.84,-84.54 1650.75,-75.26\"/>\n<polygon fill=\"black\" stroke=\"black\" points=\"1652.92,-72.5 1643.19,-68.3 1648.18,-77.65 1652.92,-72.5\"/>\n</g>\n<!-- 24 -->\n<g id=\"node25\" class=\"node\">\n<title>24</title>\n<path fill=\"#ffffff\" stroke=\"black\" d=\"M1812.5,-68C1812.5,-68 1711.5,-68 1711.5,-68 1705.5,-68 1699.5,-62 1699.5,-56 1699.5,-56 1699.5,-12 1699.5,-12 1699.5,-6 1705.5,0 1711.5,0 1711.5,0 1812.5,0 1812.5,0 1818.5,0 1824.5,-6 1824.5,-12 1824.5,-12 1824.5,-56 1824.5,-56 1824.5,-62 1818.5,-68 1812.5,-68\"/>\n<text text-anchor=\"middle\" x=\"1762\" y=\"-52.8\" font-family=\"Helvetica,sans-Serif\" font-size=\"14.00\">entropy = 1.0</text>\n<text text-anchor=\"middle\" x=\"1762\" y=\"-37.8\" font-family=\"Helvetica,sans-Serif\" font-size=\"14.00\">samples = 2</text>\n<text text-anchor=\"middle\" x=\"1762\" y=\"-22.8\" font-family=\"Helvetica,sans-Serif\" font-size=\"14.00\">value = [1, 0, 1, 0]</text>\n<text text-anchor=\"middle\" x=\"1762\" y=\"-7.8\" font-family=\"Helvetica,sans-Serif\" font-size=\"14.00\">class = Dubai</text>\n</g>\n<!-- 22&#45;&gt;24 -->\n<g id=\"edge24\" class=\"edge\">\n<title>22&#45;&gt;24</title>\n<path fill=\"none\" stroke=\"black\" d=\"M1739.41,-103.73C1742.16,-95.34 1745.08,-86.47 1747.86,-78.01\"/>\n<polygon fill=\"black\" stroke=\"black\" points=\"1751.25,-78.89 1751.05,-68.3 1744.6,-76.71 1751.25,-78.89\"/>\n</g>\n<!-- 26 -->\n<g id=\"node27\" class=\"node\">\n<title>26</title>\n<path fill=\"#f7d7fa\" stroke=\"black\" d=\"M2017,-187C2017,-187 1891,-187 1891,-187 1885,-187 1879,-181 1879,-175 1879,-175 1879,-116 1879,-116 1879,-110 1885,-104 1891,-104 1891,-104 2017,-104 2017,-104 2023,-104 2029,-110 2029,-116 2029,-116 2029,-175 2029,-175 2029,-181 2023,-187 2017,-187\"/>\n<text text-anchor=\"middle\" x=\"1954\" y=\"-171.8\" font-family=\"Helvetica,sans-Serif\" font-size=\"14.00\">Q2 &lt;= 2.5</text>\n<text text-anchor=\"middle\" x=\"1954\" y=\"-156.8\" font-family=\"Helvetica,sans-Serif\" font-size=\"14.00\">entropy = 1.406</text>\n<text text-anchor=\"middle\" x=\"1954\" y=\"-141.8\" font-family=\"Helvetica,sans-Serif\" font-size=\"14.00\">samples = 8</text>\n<text text-anchor=\"middle\" x=\"1954\" y=\"-126.8\" font-family=\"Helvetica,sans-Serif\" font-size=\"14.00\">value = [3, 1, 0, 4]</text>\n<text text-anchor=\"middle\" x=\"1954\" y=\"-111.8\" font-family=\"Helvetica,sans-Serif\" font-size=\"14.00\">class = Rio de Janeiro</text>\n</g>\n<!-- 25&#45;&gt;26 -->\n<g id=\"edge26\" class=\"edge\">\n<title>25&#45;&gt;26</title>\n<path fill=\"none\" stroke=\"black\" d=\"M1954,-222.91C1954,-214.65 1954,-205.86 1954,-197.3\"/>\n<polygon fill=\"black\" stroke=\"black\" points=\"1957.5,-197.02 1954,-187.02 1950.5,-197.02 1957.5,-197.02\"/>\n</g>\n<!-- 29 -->\n<g id=\"node30\" class=\"node\">\n<title>29</title>\n<path fill=\"#d83ee6\" stroke=\"black\" d=\"M2292,-187C2292,-187 2166,-187 2166,-187 2160,-187 2154,-181 2154,-175 2154,-175 2154,-116 2154,-116 2154,-110 2160,-104 2166,-104 2166,-104 2292,-104 2292,-104 2298,-104 2304,-110 2304,-116 2304,-116 2304,-175 2304,-175 2304,-181 2298,-187 2292,-187\"/>\n<text text-anchor=\"middle\" x=\"2229\" y=\"-171.8\" font-family=\"Helvetica,sans-Serif\" font-size=\"14.00\">Q6_Cuisine &lt;= 5.5</text>\n<text text-anchor=\"middle\" x=\"2229\" y=\"-156.8\" font-family=\"Helvetica,sans-Serif\" font-size=\"14.00\">entropy = 0.197</text>\n<text text-anchor=\"middle\" x=\"2229\" y=\"-141.8\" font-family=\"Helvetica,sans-Serif\" font-size=\"14.00\">samples = 169</text>\n<text text-anchor=\"middle\" x=\"2229\" y=\"-126.8\" font-family=\"Helvetica,sans-Serif\" font-size=\"14.00\">value = [2, 1, 1, 165]</text>\n<text text-anchor=\"middle\" x=\"2229\" y=\"-111.8\" font-family=\"Helvetica,sans-Serif\" font-size=\"14.00\">class = Rio de Janeiro</text>\n</g>\n<!-- 25&#45;&gt;29 -->\n<g id=\"edge29\" class=\"edge\">\n<title>25&#45;&gt;29</title>\n<path fill=\"none\" stroke=\"black\" d=\"M2029.14,-231.53C2064.92,-216.31 2107.83,-198.05 2144.71,-182.36\"/>\n<polygon fill=\"black\" stroke=\"black\" points=\"2146.11,-185.57 2153.95,-178.43 2143.37,-179.13 2146.11,-185.57\"/>\n</g>\n<!-- 27 -->\n<g id=\"node28\" class=\"node\">\n<title>27</title>\n<path fill=\"#d739e5\" stroke=\"black\" d=\"M1981,-68C1981,-68 1855,-68 1855,-68 1849,-68 1843,-62 1843,-56 1843,-56 1843,-12 1843,-12 1843,-6 1849,0 1855,0 1855,0 1981,0 1981,0 1987,0 1993,-6 1993,-12 1993,-12 1993,-56 1993,-56 1993,-62 1987,-68 1981,-68\"/>\n<text text-anchor=\"middle\" x=\"1918\" y=\"-52.8\" font-family=\"Helvetica,sans-Serif\" font-size=\"14.00\">entropy = 0.0</text>\n<text text-anchor=\"middle\" x=\"1918\" y=\"-37.8\" font-family=\"Helvetica,sans-Serif\" font-size=\"14.00\">samples = 4</text>\n<text text-anchor=\"middle\" x=\"1918\" y=\"-22.8\" font-family=\"Helvetica,sans-Serif\" font-size=\"14.00\">value = [0, 0, 0, 4]</text>\n<text text-anchor=\"middle\" x=\"1918\" y=\"-7.8\" font-family=\"Helvetica,sans-Serif\" font-size=\"14.00\">class = Rio de Janeiro</text>\n</g>\n<!-- 26&#45;&gt;27 -->\n<g id=\"edge27\" class=\"edge\">\n<title>26&#45;&gt;27</title>\n<path fill=\"none\" stroke=\"black\" d=\"M1940.59,-103.73C1937.84,-95.34 1934.92,-86.47 1932.14,-78.01\"/>\n<polygon fill=\"black\" stroke=\"black\" points=\"1935.4,-76.71 1928.95,-68.3 1928.75,-78.89 1935.4,-76.71\"/>\n</g>\n<!-- 28 -->\n<g id=\"node29\" class=\"node\">\n<title>28</title>\n<path fill=\"#eeab7b\" stroke=\"black\" d=\"M2123.5,-68C2123.5,-68 2022.5,-68 2022.5,-68 2016.5,-68 2010.5,-62 2010.5,-56 2010.5,-56 2010.5,-12 2010.5,-12 2010.5,-6 2016.5,0 2022.5,0 2022.5,0 2123.5,0 2123.5,0 2129.5,0 2135.5,-6 2135.5,-12 2135.5,-12 2135.5,-56 2135.5,-56 2135.5,-62 2129.5,-68 2123.5,-68\"/>\n<text text-anchor=\"middle\" x=\"2073\" y=\"-52.8\" font-family=\"Helvetica,sans-Serif\" font-size=\"14.00\">entropy = 0.811</text>\n<text text-anchor=\"middle\" x=\"2073\" y=\"-37.8\" font-family=\"Helvetica,sans-Serif\" font-size=\"14.00\">samples = 4</text>\n<text text-anchor=\"middle\" x=\"2073\" y=\"-22.8\" font-family=\"Helvetica,sans-Serif\" font-size=\"14.00\">value = [3, 1, 0, 0]</text>\n<text text-anchor=\"middle\" x=\"2073\" y=\"-7.8\" font-family=\"Helvetica,sans-Serif\" font-size=\"14.00\">class = Dubai</text>\n</g>\n<!-- 26&#45;&gt;28 -->\n<g id=\"edge28\" class=\"edge\">\n<title>26&#45;&gt;28</title>\n<path fill=\"none\" stroke=\"black\" d=\"M1998.31,-103.73C2008.42,-94.42 2019.16,-84.54 2029.25,-75.26\"/>\n<polygon fill=\"black\" stroke=\"black\" points=\"2031.82,-77.65 2036.81,-68.3 2027.08,-72.5 2031.82,-77.65\"/>\n</g>\n<!-- 30 -->\n<g id=\"node31\" class=\"node\">\n<title>30</title>\n<path fill=\"#d73ae5\" stroke=\"black\" d=\"M2292,-68C2292,-68 2166,-68 2166,-68 2160,-68 2154,-62 2154,-56 2154,-56 2154,-12 2154,-12 2154,-6 2160,0 2166,0 2166,0 2292,0 2292,0 2298,0 2304,-6 2304,-12 2304,-12 2304,-56 2304,-56 2304,-62 2298,-68 2292,-68\"/>\n<text text-anchor=\"middle\" x=\"2229\" y=\"-52.8\" font-family=\"Helvetica,sans-Serif\" font-size=\"14.00\">entropy = 0.056</text>\n<text text-anchor=\"middle\" x=\"2229\" y=\"-37.8\" font-family=\"Helvetica,sans-Serif\" font-size=\"14.00\">samples = 156</text>\n<text text-anchor=\"middle\" x=\"2229\" y=\"-22.8\" font-family=\"Helvetica,sans-Serif\" font-size=\"14.00\">value = [1, 0, 0, 155]</text>\n<text text-anchor=\"middle\" x=\"2229\" y=\"-7.8\" font-family=\"Helvetica,sans-Serif\" font-size=\"14.00\">class = Rio de Janeiro</text>\n</g>\n<!-- 29&#45;&gt;30 -->\n<g id=\"edge30\" class=\"edge\">\n<title>29&#45;&gt;30</title>\n<path fill=\"none\" stroke=\"black\" d=\"M2229,-103.73C2229,-95.52 2229,-86.86 2229,-78.56\"/>\n<polygon fill=\"black\" stroke=\"black\" points=\"2232.5,-78.3 2229,-68.3 2225.5,-78.3 2232.5,-78.3\"/>\n</g>\n<!-- 31 -->\n<g id=\"node32\" class=\"node\">\n<title>31</title>\n<path fill=\"#e16bec\" stroke=\"black\" d=\"M2460,-68C2460,-68 2334,-68 2334,-68 2328,-68 2322,-62 2322,-56 2322,-56 2322,-12 2322,-12 2322,-6 2328,0 2334,0 2334,0 2460,0 2460,0 2466,0 2472,-6 2472,-12 2472,-12 2472,-56 2472,-56 2472,-62 2466,-68 2460,-68\"/>\n<text text-anchor=\"middle\" x=\"2397\" y=\"-52.8\" font-family=\"Helvetica,sans-Serif\" font-size=\"14.00\">entropy = 1.145</text>\n<text text-anchor=\"middle\" x=\"2397\" y=\"-37.8\" font-family=\"Helvetica,sans-Serif\" font-size=\"14.00\">samples = 13</text>\n<text text-anchor=\"middle\" x=\"2397\" y=\"-22.8\" font-family=\"Helvetica,sans-Serif\" font-size=\"14.00\">value = [1, 1, 1, 10]</text>\n<text text-anchor=\"middle\" x=\"2397\" y=\"-7.8\" font-family=\"Helvetica,sans-Serif\" font-size=\"14.00\">class = Rio de Janeiro</text>\n</g>\n<!-- 29&#45;&gt;31 -->\n<g id=\"edge31\" class=\"edge\">\n<title>29&#45;&gt;31</title>\n<path fill=\"none\" stroke=\"black\" d=\"M2291.56,-103.73C2306.61,-93.92 2322.64,-83.46 2337.55,-73.75\"/>\n<polygon fill=\"black\" stroke=\"black\" points=\"2339.71,-76.52 2346.18,-68.13 2335.89,-70.65 2339.71,-76.52\"/>\n</g>\n<!-- 33 -->\n<g id=\"node34\" class=\"node\">\n<title>33</title>\n<path fill=\"#77ec6d\" stroke=\"black\" d=\"M3114.5,-425C3114.5,-425 2983.5,-425 2983.5,-425 2977.5,-425 2971.5,-419 2971.5,-413 2971.5,-413 2971.5,-354 2971.5,-354 2971.5,-348 2977.5,-342 2983.5,-342 2983.5,-342 3114.5,-342 3114.5,-342 3120.5,-342 3126.5,-348 3126.5,-354 3126.5,-354 3126.5,-413 3126.5,-413 3126.5,-419 3120.5,-425 3114.5,-425\"/>\n<text text-anchor=\"middle\" x=\"3049\" y=\"-409.8\" font-family=\"Helvetica,sans-Serif\" font-size=\"14.00\">Q2 &lt;= 4.5</text>\n<text text-anchor=\"middle\" x=\"3049\" y=\"-394.8\" font-family=\"Helvetica,sans-Serif\" font-size=\"14.00\">entropy = 1.028</text>\n<text text-anchor=\"middle\" x=\"3049\" y=\"-379.8\" font-family=\"Helvetica,sans-Serif\" font-size=\"14.00\">samples = 219</text>\n<text text-anchor=\"middle\" x=\"3049\" y=\"-364.8\" font-family=\"Helvetica,sans-Serif\" font-size=\"14.00\">value = [21, 169, 28, 1]</text>\n<text text-anchor=\"middle\" x=\"3049\" y=\"-349.8\" font-family=\"Helvetica,sans-Serif\" font-size=\"14.00\">class = New York City</text>\n</g>\n<!-- 32&#45;&gt;33 -->\n<g id=\"edge33\" class=\"edge\">\n<title>32&#45;&gt;33</title>\n<path fill=\"none\" stroke=\"black\" d=\"M3049,-460.91C3049,-452.65 3049,-443.86 3049,-435.3\"/>\n<polygon fill=\"black\" stroke=\"black\" points=\"3052.5,-435.02 3049,-425.02 3045.5,-435.02 3052.5,-435.02\"/>\n</g>\n<!-- 48 -->\n<g id=\"node49\" class=\"node\">\n<title>48</title>\n<path fill=\"#ea9a60\" stroke=\"black\" d=\"M4122.5,-425C4122.5,-425 3977.5,-425 3977.5,-425 3971.5,-425 3965.5,-419 3965.5,-413 3965.5,-413 3965.5,-354 3965.5,-354 3965.5,-348 3971.5,-342 3977.5,-342 3977.5,-342 4122.5,-342 4122.5,-342 4128.5,-342 4134.5,-348 4134.5,-354 4134.5,-354 4134.5,-413 4134.5,-413 4134.5,-419 4128.5,-425 4122.5,-425\"/>\n<text text-anchor=\"middle\" x=\"4050\" y=\"-409.8\" font-family=\"Helvetica,sans-Serif\" font-size=\"14.00\">Q6_Art and Music &lt;= 4.5</text>\n<text text-anchor=\"middle\" x=\"4050\" y=\"-394.8\" font-family=\"Helvetica,sans-Serif\" font-size=\"14.00\">entropy = 0.97</text>\n<text text-anchor=\"middle\" x=\"4050\" y=\"-379.8\" font-family=\"Helvetica,sans-Serif\" font-size=\"14.00\">samples = 246</text>\n<text text-anchor=\"middle\" x=\"4050\" y=\"-364.8\" font-family=\"Helvetica,sans-Serif\" font-size=\"14.00\">value = [201, 19, 15, 11]</text>\n<text text-anchor=\"middle\" x=\"4050\" y=\"-349.8\" font-family=\"Helvetica,sans-Serif\" font-size=\"14.00\">class = Dubai</text>\n</g>\n<!-- 32&#45;&gt;48 -->\n<g id=\"edge48\" class=\"edge\">\n<title>32&#45;&gt;48</title>\n<path fill=\"none\" stroke=\"black\" d=\"M3134.34,-491.52C3320.25,-469.8 3760.68,-418.32 3955.03,-395.6\"/>\n<polygon fill=\"black\" stroke=\"black\" points=\"3955.7,-399.05 3965.23,-394.41 3954.89,-392.09 3955.7,-399.05\"/>\n</g>\n<!-- 34 -->\n<g id=\"node35\" class=\"node\">\n<title>34</title>\n<path fill=\"#b3f4ad\" stroke=\"black\" d=\"M3028,-306C3028,-306 2904,-306 2904,-306 2898,-306 2892,-300 2892,-294 2892,-294 2892,-235 2892,-235 2892,-229 2898,-223 2904,-223 2904,-223 3028,-223 3028,-223 3034,-223 3040,-229 3040,-235 3040,-235 3040,-294 3040,-294 3040,-300 3034,-306 3028,-306\"/>\n<text text-anchor=\"middle\" x=\"2966\" y=\"-290.8\" font-family=\"Helvetica,sans-Serif\" font-size=\"14.00\">Q6_Economic &lt;= 4.5</text>\n<text text-anchor=\"middle\" x=\"2966\" y=\"-275.8\" font-family=\"Helvetica,sans-Serif\" font-size=\"14.00\">entropy = 1.491</text>\n<text text-anchor=\"middle\" x=\"2966\" y=\"-260.8\" font-family=\"Helvetica,sans-Serif\" font-size=\"14.00\">samples = 99</text>\n<text text-anchor=\"middle\" x=\"2966\" y=\"-245.8\" font-family=\"Helvetica,sans-Serif\" font-size=\"14.00\">value = [19, 55, 24, 1]</text>\n<text text-anchor=\"middle\" x=\"2966\" y=\"-230.8\" font-family=\"Helvetica,sans-Serif\" font-size=\"14.00\">class = New York City</text>\n</g>\n<!-- 33&#45;&gt;34 -->\n<g id=\"edge34\" class=\"edge\">\n<title>33&#45;&gt;34</title>\n<path fill=\"none\" stroke=\"black\" d=\"M3020.2,-341.91C3013.89,-333.01 3007.15,-323.51 3000.64,-314.33\"/>\n<polygon fill=\"black\" stroke=\"black\" points=\"3003.39,-312.15 2994.75,-306.02 2997.68,-316.2 3003.39,-312.15\"/>\n</g>\n<!-- 41 -->\n<g id=\"node42\" class=\"node\">\n<title>41</title>\n<path fill=\"#51e643\" stroke=\"black\" d=\"M3342,-306C3342,-306 3218,-306 3218,-306 3212,-306 3206,-300 3206,-294 3206,-294 3206,-235 3206,-235 3206,-229 3212,-223 3218,-223 3218,-223 3342,-223 3342,-223 3348,-223 3354,-229 3354,-235 3354,-235 3354,-294 3354,-294 3354,-300 3348,-306 3342,-306\"/>\n<text text-anchor=\"middle\" x=\"3280\" y=\"-290.8\" font-family=\"Helvetica,sans-Serif\" font-size=\"14.00\">Q6_Carnival &lt;= 4.5</text>\n<text text-anchor=\"middle\" x=\"3280\" y=\"-275.8\" font-family=\"Helvetica,sans-Serif\" font-size=\"14.00\">entropy = 0.332</text>\n<text text-anchor=\"middle\" x=\"3280\" y=\"-260.8\" font-family=\"Helvetica,sans-Serif\" font-size=\"14.00\">samples = 120</text>\n<text text-anchor=\"middle\" x=\"3280\" y=\"-245.8\" font-family=\"Helvetica,sans-Serif\" font-size=\"14.00\">value = [2, 114, 4, 0]</text>\n<text text-anchor=\"middle\" x=\"3280\" y=\"-230.8\" font-family=\"Helvetica,sans-Serif\" font-size=\"14.00\">class = New York City</text>\n</g>\n<!-- 33&#45;&gt;41 -->\n<g id=\"edge41\" class=\"edge\">\n<title>33&#45;&gt;41</title>\n<path fill=\"none\" stroke=\"black\" d=\"M3126.56,-343.22C3149.13,-331.79 3173.86,-319.26 3196.76,-307.66\"/>\n<polygon fill=\"black\" stroke=\"black\" points=\"3198.43,-310.74 3205.77,-303.1 3195.27,-304.49 3198.43,-310.74\"/>\n</g>\n<!-- 35 -->\n<g id=\"node36\" class=\"node\">\n<title>35</title>\n<path fill=\"#9ccef2\" stroke=\"black\" d=\"M2769,-187C2769,-187 2661,-187 2661,-187 2655,-187 2649,-181 2649,-175 2649,-175 2649,-116 2649,-116 2649,-110 2655,-104 2661,-104 2661,-104 2769,-104 2769,-104 2775,-104 2781,-110 2781,-116 2781,-116 2781,-175 2781,-175 2781,-181 2775,-187 2769,-187\"/>\n<text text-anchor=\"middle\" x=\"2715\" y=\"-171.8\" font-family=\"Helvetica,sans-Serif\" font-size=\"14.00\">beauty &lt;= 0.5</text>\n<text text-anchor=\"middle\" x=\"2715\" y=\"-156.8\" font-family=\"Helvetica,sans-Serif\" font-size=\"14.00\">entropy = 1.508</text>\n<text text-anchor=\"middle\" x=\"2715\" y=\"-141.8\" font-family=\"Helvetica,sans-Serif\" font-size=\"14.00\">samples = 32</text>\n<text text-anchor=\"middle\" x=\"2715\" y=\"-126.8\" font-family=\"Helvetica,sans-Serif\" font-size=\"14.00\">value = [6, 6, 19, 1]</text>\n<text text-anchor=\"middle\" x=\"2715\" y=\"-111.8\" font-family=\"Helvetica,sans-Serif\" font-size=\"14.00\">class = Paris</text>\n</g>\n<!-- 34&#45;&gt;35 -->\n<g id=\"edge35\" class=\"edge\">\n<title>34&#45;&gt;35</title>\n<path fill=\"none\" stroke=\"black\" d=\"M2891.71,-228.87C2859.87,-214.03 2822.72,-196.71 2790.73,-181.8\"/>\n<polygon fill=\"black\" stroke=\"black\" points=\"2791.95,-178.51 2781.41,-177.46 2789,-184.85 2791.95,-178.51\"/>\n</g>\n<!-- 38 -->\n<g id=\"node39\" class=\"node\">\n<title>38</title>\n<path fill=\"#84ee7b\" stroke=\"black\" d=\"M3038.5,-187C3038.5,-187 2893.5,-187 2893.5,-187 2887.5,-187 2881.5,-181 2881.5,-175 2881.5,-175 2881.5,-116 2881.5,-116 2881.5,-110 2887.5,-104 2893.5,-104 2893.5,-104 3038.5,-104 3038.5,-104 3044.5,-104 3050.5,-110 3050.5,-116 3050.5,-116 3050.5,-175 3050.5,-175 3050.5,-181 3044.5,-187 3038.5,-187\"/>\n<text text-anchor=\"middle\" x=\"2966\" y=\"-171.8\" font-family=\"Helvetica,sans-Serif\" font-size=\"14.00\">Q6_Art and Music &lt;= 4.5</text>\n<text text-anchor=\"middle\" x=\"2966\" y=\"-156.8\" font-family=\"Helvetica,sans-Serif\" font-size=\"14.00\">entropy = 1.069</text>\n<text text-anchor=\"middle\" x=\"2966\" y=\"-141.8\" font-family=\"Helvetica,sans-Serif\" font-size=\"14.00\">samples = 67</text>\n<text text-anchor=\"middle\" x=\"2966\" y=\"-126.8\" font-family=\"Helvetica,sans-Serif\" font-size=\"14.00\">value = [13, 49, 5, 0]</text>\n<text text-anchor=\"middle\" x=\"2966\" y=\"-111.8\" font-family=\"Helvetica,sans-Serif\" font-size=\"14.00\">class = New York City</text>\n</g>\n<!-- 34&#45;&gt;38 -->\n<g id=\"edge38\" class=\"edge\">\n<title>34&#45;&gt;38</title>\n<path fill=\"none\" stroke=\"black\" d=\"M2966,-222.91C2966,-214.65 2966,-205.86 2966,-197.3\"/>\n<polygon fill=\"black\" stroke=\"black\" points=\"2969.5,-197.02 2966,-187.02 2962.5,-197.02 2969.5,-197.02\"/>\n</g>\n<!-- 36 -->\n<g id=\"node37\" class=\"node\">\n<title>36</title>\n<path fill=\"#98ccf1\" stroke=\"black\" d=\"M2610,-68C2610,-68 2502,-68 2502,-68 2496,-68 2490,-62 2490,-56 2490,-56 2490,-12 2490,-12 2490,-6 2496,0 2502,0 2502,0 2610,0 2610,0 2616,0 2622,-6 2622,-12 2622,-12 2622,-56 2622,-56 2622,-62 2616,-68 2610,-68\"/>\n<text text-anchor=\"middle\" x=\"2556\" y=\"-52.8\" font-family=\"Helvetica,sans-Serif\" font-size=\"14.00\">entropy = 1.35</text>\n<text text-anchor=\"middle\" x=\"2556\" y=\"-37.8\" font-family=\"Helvetica,sans-Serif\" font-size=\"14.00\">samples = 31</text>\n<text text-anchor=\"middle\" x=\"2556\" y=\"-22.8\" font-family=\"Helvetica,sans-Serif\" font-size=\"14.00\">value = [6, 6, 19, 0]</text>\n<text text-anchor=\"middle\" x=\"2556\" y=\"-7.8\" font-family=\"Helvetica,sans-Serif\" font-size=\"14.00\">class = Paris</text>\n</g>\n<!-- 35&#45;&gt;36 -->\n<g id=\"edge36\" class=\"edge\">\n<title>35&#45;&gt;36</title>\n<path fill=\"none\" stroke=\"black\" d=\"M2655.79,-103.73C2641.68,-94.01 2626.66,-83.66 2612.66,-74.02\"/>\n<polygon fill=\"black\" stroke=\"black\" points=\"2614.32,-70.91 2604.1,-68.13 2610.35,-76.68 2614.32,-70.91\"/>\n</g>\n<!-- 37 -->\n<g id=\"node38\" class=\"node\">\n<title>37</title>\n<path fill=\"#d739e5\" stroke=\"black\" d=\"M2778,-68C2778,-68 2652,-68 2652,-68 2646,-68 2640,-62 2640,-56 2640,-56 2640,-12 2640,-12 2640,-6 2646,0 2652,0 2652,0 2778,0 2778,0 2784,0 2790,-6 2790,-12 2790,-12 2790,-56 2790,-56 2790,-62 2784,-68 2778,-68\"/>\n<text text-anchor=\"middle\" x=\"2715\" y=\"-52.8\" font-family=\"Helvetica,sans-Serif\" font-size=\"14.00\">entropy = 0.0</text>\n<text text-anchor=\"middle\" x=\"2715\" y=\"-37.8\" font-family=\"Helvetica,sans-Serif\" font-size=\"14.00\">samples = 1</text>\n<text text-anchor=\"middle\" x=\"2715\" y=\"-22.8\" font-family=\"Helvetica,sans-Serif\" font-size=\"14.00\">value = [0, 0, 0, 1]</text>\n<text text-anchor=\"middle\" x=\"2715\" y=\"-7.8\" font-family=\"Helvetica,sans-Serif\" font-size=\"14.00\">class = Rio de Janeiro</text>\n</g>\n<!-- 35&#45;&gt;37 -->\n<g id=\"edge37\" class=\"edge\">\n<title>35&#45;&gt;37</title>\n<path fill=\"none\" stroke=\"black\" d=\"M2715,-103.73C2715,-95.52 2715,-86.86 2715,-78.56\"/>\n<polygon fill=\"black\" stroke=\"black\" points=\"2718.5,-78.3 2715,-68.3 2711.5,-78.3 2718.5,-78.3\"/>\n</g>\n<!-- 39 -->\n<g id=\"node40\" class=\"node\">\n<title>39</title>\n<path fill=\"#7ded74\" stroke=\"black\" d=\"M2944,-68C2944,-68 2820,-68 2820,-68 2814,-68 2808,-62 2808,-56 2808,-56 2808,-12 2808,-12 2808,-6 2814,0 2820,0 2820,0 2944,0 2944,0 2950,0 2956,-6 2956,-12 2956,-12 2956,-56 2956,-56 2956,-62 2950,-68 2944,-68\"/>\n<text text-anchor=\"middle\" x=\"2882\" y=\"-52.8\" font-family=\"Helvetica,sans-Serif\" font-size=\"14.00\">entropy = 0.775</text>\n<text text-anchor=\"middle\" x=\"2882\" y=\"-37.8\" font-family=\"Helvetica,sans-Serif\" font-size=\"14.00\">samples = 57</text>\n<text text-anchor=\"middle\" x=\"2882\" y=\"-22.8\" font-family=\"Helvetica,sans-Serif\" font-size=\"14.00\">value = [13, 44, 0, 0]</text>\n<text text-anchor=\"middle\" x=\"2882\" y=\"-7.8\" font-family=\"Helvetica,sans-Serif\" font-size=\"14.00\">class = New York City</text>\n</g>\n<!-- 38&#45;&gt;39 -->\n<g id=\"edge39\" class=\"edge\">\n<title>38&#45;&gt;39</title>\n<path fill=\"none\" stroke=\"black\" d=\"M2934.72,-103.73C2927.86,-94.79 2920.6,-85.32 2913.72,-76.36\"/>\n<polygon fill=\"black\" stroke=\"black\" points=\"2916.41,-74.1 2907.54,-68.3 2910.85,-78.36 2916.41,-74.1\"/>\n</g>\n<!-- 40 -->\n<g id=\"node41\" class=\"node\">\n<title>40</title>\n<path fill=\"#ffffff\" stroke=\"black\" d=\"M3110,-68C3110,-68 2986,-68 2986,-68 2980,-68 2974,-62 2974,-56 2974,-56 2974,-12 2974,-12 2974,-6 2980,0 2986,0 2986,0 3110,0 3110,0 3116,0 3122,-6 3122,-12 3122,-12 3122,-56 3122,-56 3122,-62 3116,-68 3110,-68\"/>\n<text text-anchor=\"middle\" x=\"3048\" y=\"-52.8\" font-family=\"Helvetica,sans-Serif\" font-size=\"14.00\">entropy = 1.0</text>\n<text text-anchor=\"middle\" x=\"3048\" y=\"-37.8\" font-family=\"Helvetica,sans-Serif\" font-size=\"14.00\">samples = 10</text>\n<text text-anchor=\"middle\" x=\"3048\" y=\"-22.8\" font-family=\"Helvetica,sans-Serif\" font-size=\"14.00\">value = [0, 5, 5, 0]</text>\n<text text-anchor=\"middle\" x=\"3048\" y=\"-7.8\" font-family=\"Helvetica,sans-Serif\" font-size=\"14.00\">class = New York City</text>\n</g>\n<!-- 38&#45;&gt;40 -->\n<g id=\"edge40\" class=\"edge\">\n<title>38&#45;&gt;40</title>\n<path fill=\"none\" stroke=\"black\" d=\"M2996.53,-103.73C3003.23,-94.79 3010.32,-85.32 3017.03,-76.36\"/>\n<polygon fill=\"black\" stroke=\"black\" points=\"3019.87,-78.4 3023.06,-68.3 3014.27,-74.21 3019.87,-78.4\"/>\n</g>\n<!-- 42 -->\n<g id=\"node43\" class=\"node\">\n<title>42</title>\n<path fill=\"#4ce63f\" stroke=\"black\" d=\"M3342,-187C3342,-187 3218,-187 3218,-187 3212,-187 3206,-181 3206,-175 3206,-175 3206,-116 3206,-116 3206,-110 3212,-104 3218,-104 3218,-104 3342,-104 3342,-104 3348,-104 3354,-110 3354,-116 3354,-116 3354,-175 3354,-175 3354,-181 3348,-187 3342,-187\"/>\n<text text-anchor=\"middle\" x=\"3280\" y=\"-171.8\" font-family=\"Helvetica,sans-Serif\" font-size=\"14.00\">smell &lt;= 0.5</text>\n<text text-anchor=\"middle\" x=\"3280\" y=\"-156.8\" font-family=\"Helvetica,sans-Serif\" font-size=\"14.00\">entropy = 0.207</text>\n<text text-anchor=\"middle\" x=\"3280\" y=\"-141.8\" font-family=\"Helvetica,sans-Serif\" font-size=\"14.00\">samples = 109</text>\n<text text-anchor=\"middle\" x=\"3280\" y=\"-126.8\" font-family=\"Helvetica,sans-Serif\" font-size=\"14.00\">value = [2, 106, 1, 0]</text>\n<text text-anchor=\"middle\" x=\"3280\" y=\"-111.8\" font-family=\"Helvetica,sans-Serif\" font-size=\"14.00\">class = New York City</text>\n</g>\n<!-- 41&#45;&gt;42 -->\n<g id=\"edge42\" class=\"edge\">\n<title>41&#45;&gt;42</title>\n<path fill=\"none\" stroke=\"black\" d=\"M3280,-222.91C3280,-214.65 3280,-205.86 3280,-197.3\"/>\n<polygon fill=\"black\" stroke=\"black\" points=\"3283.5,-197.02 3280,-187.02 3276.5,-197.02 3283.5,-197.02\"/>\n</g>\n<!-- 45 -->\n<g id=\"node46\" class=\"node\">\n<title>45</title>\n<path fill=\"#8cef83\" stroke=\"black\" d=\"M3574,-187C3574,-187 3450,-187 3450,-187 3444,-187 3438,-181 3438,-175 3438,-175 3438,-116 3438,-116 3438,-110 3444,-104 3450,-104 3450,-104 3574,-104 3574,-104 3580,-104 3586,-110 3586,-116 3586,-116 3586,-175 3586,-175 3586,-181 3580,-187 3574,-187\"/>\n<text text-anchor=\"middle\" x=\"3512\" y=\"-171.8\" font-family=\"Helvetica,sans-Serif\" font-size=\"14.00\">Q5_Friends &lt;= 0.5</text>\n<text text-anchor=\"middle\" x=\"3512\" y=\"-156.8\" font-family=\"Helvetica,sans-Serif\" font-size=\"14.00\">entropy = 0.845</text>\n<text text-anchor=\"middle\" x=\"3512\" y=\"-141.8\" font-family=\"Helvetica,sans-Serif\" font-size=\"14.00\">samples = 11</text>\n<text text-anchor=\"middle\" x=\"3512\" y=\"-126.8\" font-family=\"Helvetica,sans-Serif\" font-size=\"14.00\">value = [0, 8, 3, 0]</text>\n<text text-anchor=\"middle\" x=\"3512\" y=\"-111.8\" font-family=\"Helvetica,sans-Serif\" font-size=\"14.00\">class = New York City</text>\n</g>\n<!-- 41&#45;&gt;45 -->\n<g id=\"edge45\" class=\"edge\">\n<title>41&#45;&gt;45</title>\n<path fill=\"none\" stroke=\"black\" d=\"M3354.04,-226.16C3377.8,-214.18 3404.26,-200.83 3428.63,-188.54\"/>\n<polygon fill=\"black\" stroke=\"black\" points=\"3430.51,-191.52 3437.86,-183.89 3427.36,-185.27 3430.51,-191.52\"/>\n</g>\n<!-- 43 -->\n<g id=\"node44\" class=\"node\">\n<title>43</title>\n<path fill=\"#4ae53d\" stroke=\"black\" d=\"M3276,-68C3276,-68 3152,-68 3152,-68 3146,-68 3140,-62 3140,-56 3140,-56 3140,-12 3140,-12 3140,-6 3146,0 3152,0 3152,0 3276,0 3276,0 3282,0 3288,-6 3288,-12 3288,-12 3288,-56 3288,-56 3288,-62 3282,-68 3276,-68\"/>\n<text text-anchor=\"middle\" x=\"3214\" y=\"-52.8\" font-family=\"Helvetica,sans-Serif\" font-size=\"14.00\">entropy = 0.133</text>\n<text text-anchor=\"middle\" x=\"3214\" y=\"-37.8\" font-family=\"Helvetica,sans-Serif\" font-size=\"14.00\">samples = 108</text>\n<text text-anchor=\"middle\" x=\"3214\" y=\"-22.8\" font-family=\"Helvetica,sans-Serif\" font-size=\"14.00\">value = [2, 106, 0, 0]</text>\n<text text-anchor=\"middle\" x=\"3214\" y=\"-7.8\" font-family=\"Helvetica,sans-Serif\" font-size=\"14.00\">class = New York City</text>\n</g>\n<!-- 42&#45;&gt;43 -->\n<g id=\"edge43\" class=\"edge\">\n<title>42&#45;&gt;43</title>\n<path fill=\"none\" stroke=\"black\" d=\"M3255.42,-103.73C3250.15,-94.97 3244.56,-85.7 3239.26,-76.91\"/>\n<polygon fill=\"black\" stroke=\"black\" points=\"3242.23,-75.06 3234.07,-68.3 3236.24,-78.67 3242.23,-75.06\"/>\n</g>\n<!-- 44 -->\n<g id=\"node45\" class=\"node\">\n<title>44</title>\n<path fill=\"#399de5\" stroke=\"black\" d=\"M3419.5,-68C3419.5,-68 3318.5,-68 3318.5,-68 3312.5,-68 3306.5,-62 3306.5,-56 3306.5,-56 3306.5,-12 3306.5,-12 3306.5,-6 3312.5,0 3318.5,0 3318.5,0 3419.5,0 3419.5,0 3425.5,0 3431.5,-6 3431.5,-12 3431.5,-12 3431.5,-56 3431.5,-56 3431.5,-62 3425.5,-68 3419.5,-68\"/>\n<text text-anchor=\"middle\" x=\"3369\" y=\"-52.8\" font-family=\"Helvetica,sans-Serif\" font-size=\"14.00\">entropy = 0.0</text>\n<text text-anchor=\"middle\" x=\"3369\" y=\"-37.8\" font-family=\"Helvetica,sans-Serif\" font-size=\"14.00\">samples = 1</text>\n<text text-anchor=\"middle\" x=\"3369\" y=\"-22.8\" font-family=\"Helvetica,sans-Serif\" font-size=\"14.00\">value = [0, 0, 1, 0]</text>\n<text text-anchor=\"middle\" x=\"3369\" y=\"-7.8\" font-family=\"Helvetica,sans-Serif\" font-size=\"14.00\">class = Paris</text>\n</g>\n<!-- 42&#45;&gt;44 -->\n<g id=\"edge44\" class=\"edge\">\n<title>42&#45;&gt;44</title>\n<path fill=\"none\" stroke=\"black\" d=\"M3313.14,-103.73C3320.48,-94.7 3328.26,-85.12 3335.61,-76.08\"/>\n<polygon fill=\"black\" stroke=\"black\" points=\"3338.34,-78.27 3341.93,-68.3 3332.91,-73.85 3338.34,-78.27\"/>\n</g>\n<!-- 46 -->\n<g id=\"node47\" class=\"node\">\n<title>46</title>\n<path fill=\"#399de5\" stroke=\"black\" d=\"M3562.5,-68C3562.5,-68 3461.5,-68 3461.5,-68 3455.5,-68 3449.5,-62 3449.5,-56 3449.5,-56 3449.5,-12 3449.5,-12 3449.5,-6 3455.5,0 3461.5,0 3461.5,0 3562.5,0 3562.5,0 3568.5,0 3574.5,-6 3574.5,-12 3574.5,-12 3574.5,-56 3574.5,-56 3574.5,-62 3568.5,-68 3562.5,-68\"/>\n<text text-anchor=\"middle\" x=\"3512\" y=\"-52.8\" font-family=\"Helvetica,sans-Serif\" font-size=\"14.00\">entropy = 0.0</text>\n<text text-anchor=\"middle\" x=\"3512\" y=\"-37.8\" font-family=\"Helvetica,sans-Serif\" font-size=\"14.00\">samples = 2</text>\n<text text-anchor=\"middle\" x=\"3512\" y=\"-22.8\" font-family=\"Helvetica,sans-Serif\" font-size=\"14.00\">value = [0, 0, 2, 0]</text>\n<text text-anchor=\"middle\" x=\"3512\" y=\"-7.8\" font-family=\"Helvetica,sans-Serif\" font-size=\"14.00\">class = Paris</text>\n</g>\n<!-- 45&#45;&gt;46 -->\n<g id=\"edge46\" class=\"edge\">\n<title>45&#45;&gt;46</title>\n<path fill=\"none\" stroke=\"black\" d=\"M3512,-103.73C3512,-95.52 3512,-86.86 3512,-78.56\"/>\n<polygon fill=\"black\" stroke=\"black\" points=\"3515.5,-78.3 3512,-68.3 3508.5,-78.3 3515.5,-78.3\"/>\n</g>\n<!-- 47 -->\n<g id=\"node48\" class=\"node\">\n<title>47</title>\n<path fill=\"#5ee852\" stroke=\"black\" d=\"M3729,-68C3729,-68 3605,-68 3605,-68 3599,-68 3593,-62 3593,-56 3593,-56 3593,-12 3593,-12 3593,-6 3599,0 3605,0 3605,0 3729,0 3729,0 3735,0 3741,-6 3741,-12 3741,-12 3741,-56 3741,-56 3741,-62 3735,-68 3729,-68\"/>\n<text text-anchor=\"middle\" x=\"3667\" y=\"-52.8\" font-family=\"Helvetica,sans-Serif\" font-size=\"14.00\">entropy = 0.503</text>\n<text text-anchor=\"middle\" x=\"3667\" y=\"-37.8\" font-family=\"Helvetica,sans-Serif\" font-size=\"14.00\">samples = 9</text>\n<text text-anchor=\"middle\" x=\"3667\" y=\"-22.8\" font-family=\"Helvetica,sans-Serif\" font-size=\"14.00\">value = [0, 8, 1, 0]</text>\n<text text-anchor=\"middle\" x=\"3667\" y=\"-7.8\" font-family=\"Helvetica,sans-Serif\" font-size=\"14.00\">class = New York City</text>\n</g>\n<!-- 45&#45;&gt;47 -->\n<g id=\"edge47\" class=\"edge\">\n<title>45&#45;&gt;47</title>\n<path fill=\"none\" stroke=\"black\" d=\"M3569.72,-103.73C3583.4,-94.06 3597.97,-83.77 3611.55,-74.17\"/>\n<polygon fill=\"black\" stroke=\"black\" points=\"3613.72,-76.93 3619.86,-68.3 3609.68,-71.21 3613.72,-76.93\"/>\n</g>\n<!-- 49 -->\n<g id=\"node50\" class=\"node\">\n<title>49</title>\n<path fill=\"#e99355\" stroke=\"black\" d=\"M4111.5,-306C4111.5,-306 3988.5,-306 3988.5,-306 3982.5,-306 3976.5,-300 3976.5,-294 3976.5,-294 3976.5,-235 3976.5,-235 3976.5,-229 3982.5,-223 3988.5,-223 3988.5,-223 4111.5,-223 4111.5,-223 4117.5,-223 4123.5,-229 4123.5,-235 4123.5,-235 4123.5,-294 4123.5,-294 4123.5,-300 4117.5,-306 4111.5,-306\"/>\n<text text-anchor=\"middle\" x=\"4050\" y=\"-290.8\" font-family=\"Helvetica,sans-Serif\" font-size=\"14.00\">Q2 &lt;= 3.5</text>\n<text text-anchor=\"middle\" x=\"4050\" y=\"-275.8\" font-family=\"Helvetica,sans-Serif\" font-size=\"14.00\">entropy = 0.776</text>\n<text text-anchor=\"middle\" x=\"4050\" y=\"-260.8\" font-family=\"Helvetica,sans-Serif\" font-size=\"14.00\">samples = 224</text>\n<text text-anchor=\"middle\" x=\"4050\" y=\"-245.8\" font-family=\"Helvetica,sans-Serif\" font-size=\"14.00\">value = [194, 13, 8, 9]</text>\n<text text-anchor=\"middle\" x=\"4050\" y=\"-230.8\" font-family=\"Helvetica,sans-Serif\" font-size=\"14.00\">class = Dubai</text>\n</g>\n<!-- 48&#45;&gt;49 -->\n<g id=\"edge49\" class=\"edge\">\n<title>48&#45;&gt;49</title>\n<path fill=\"none\" stroke=\"black\" d=\"M4050,-341.91C4050,-333.65 4050,-324.86 4050,-316.3\"/>\n<polygon fill=\"black\" stroke=\"black\" points=\"4053.5,-316.02 4050,-306.02 4046.5,-316.02 4053.5,-316.02\"/>\n</g>\n<!-- 56 -->\n<g id=\"node57\" class=\"node\">\n<title>56</title>\n<path fill=\"#ffffff\" stroke=\"black\" d=\"M4571.5,-306C4571.5,-306 4464.5,-306 4464.5,-306 4458.5,-306 4452.5,-300 4452.5,-294 4452.5,-294 4452.5,-235 4452.5,-235 4452.5,-229 4458.5,-223 4464.5,-223 4464.5,-223 4571.5,-223 4571.5,-223 4577.5,-223 4583.5,-229 4583.5,-235 4583.5,-235 4583.5,-294 4583.5,-294 4583.5,-300 4577.5,-306 4571.5,-306\"/>\n<text text-anchor=\"middle\" x=\"4518\" y=\"-290.8\" font-family=\"Helvetica,sans-Serif\" font-size=\"14.00\">Q5_Friends &lt;= 0.5</text>\n<text text-anchor=\"middle\" x=\"4518\" y=\"-275.8\" font-family=\"Helvetica,sans-Serif\" font-size=\"14.00\">entropy = 1.877</text>\n<text text-anchor=\"middle\" x=\"4518\" y=\"-260.8\" font-family=\"Helvetica,sans-Serif\" font-size=\"14.00\">samples = 22</text>\n<text text-anchor=\"middle\" x=\"4518\" y=\"-245.8\" font-family=\"Helvetica,sans-Serif\" font-size=\"14.00\">value = [7, 6, 7, 2]</text>\n<text text-anchor=\"middle\" x=\"4518\" y=\"-230.8\" font-family=\"Helvetica,sans-Serif\" font-size=\"14.00\">class = Dubai</text>\n</g>\n<!-- 48&#45;&gt;56 -->\n<g id=\"edge56\" class=\"edge\">\n<title>48&#45;&gt;56</title>\n<path fill=\"none\" stroke=\"black\" d=\"M4134.75,-361.31C4222.55,-339.36 4358.45,-305.39 4442.62,-284.35\"/>\n<polygon fill=\"black\" stroke=\"black\" points=\"4443.51,-287.73 4452.37,-281.91 4441.82,-280.94 4443.51,-287.73\"/>\n</g>\n<!-- 50 -->\n<g id=\"node51\" class=\"node\">\n<title>50</title>\n<path fill=\"#e99659\" stroke=\"black\" d=\"M4025,-187C4025,-187 3917,-187 3917,-187 3911,-187 3905,-181 3905,-175 3905,-175 3905,-116 3905,-116 3905,-110 3911,-104 3917,-104 3917,-104 4025,-104 4025,-104 4031,-104 4037,-110 4037,-116 4037,-116 4037,-175 4037,-175 4037,-181 4031,-187 4025,-187\"/>\n<text text-anchor=\"middle\" x=\"3971\" y=\"-171.8\" font-family=\"Helvetica,sans-Serif\" font-size=\"14.00\">Q4 &lt;= 4.5</text>\n<text text-anchor=\"middle\" x=\"3971\" y=\"-156.8\" font-family=\"Helvetica,sans-Serif\" font-size=\"14.00\">entropy = 0.813</text>\n<text text-anchor=\"middle\" x=\"3971\" y=\"-141.8\" font-family=\"Helvetica,sans-Serif\" font-size=\"14.00\">samples = 107</text>\n<text text-anchor=\"middle\" x=\"3971\" y=\"-126.8\" font-family=\"Helvetica,sans-Serif\" font-size=\"14.00\">value = [91, 2, 5, 9]</text>\n<text text-anchor=\"middle\" x=\"3971\" y=\"-111.8\" font-family=\"Helvetica,sans-Serif\" font-size=\"14.00\">class = Dubai</text>\n</g>\n<!-- 49&#45;&gt;50 -->\n<g id=\"edge50\" class=\"edge\">\n<title>49&#45;&gt;50</title>\n<path fill=\"none\" stroke=\"black\" d=\"M4022.59,-222.91C4016.59,-214.01 4010.17,-204.51 4003.97,-195.33\"/>\n<polygon fill=\"black\" stroke=\"black\" points=\"4006.86,-193.35 3998.36,-187.02 4001.06,-197.27 4006.86,-193.35\"/>\n</g>\n<!-- 53 -->\n<g id=\"node54\" class=\"node\">\n<title>53</title>\n<path fill=\"#e89253\" stroke=\"black\" d=\"M4190.5,-187C4190.5,-187 4067.5,-187 4067.5,-187 4061.5,-187 4055.5,-181 4055.5,-175 4055.5,-175 4055.5,-116 4055.5,-116 4055.5,-110 4061.5,-104 4067.5,-104 4067.5,-104 4190.5,-104 4190.5,-104 4196.5,-104 4202.5,-110 4202.5,-116 4202.5,-116 4202.5,-175 4202.5,-175 4202.5,-181 4196.5,-187 4190.5,-187\"/>\n<text text-anchor=\"middle\" x=\"4129\" y=\"-171.8\" font-family=\"Helvetica,sans-Serif\" font-size=\"14.00\">Q8 &lt;= 1.5</text>\n<text text-anchor=\"middle\" x=\"4129\" y=\"-156.8\" font-family=\"Helvetica,sans-Serif\" font-size=\"14.00\">entropy = 0.618</text>\n<text text-anchor=\"middle\" x=\"4129\" y=\"-141.8\" font-family=\"Helvetica,sans-Serif\" font-size=\"14.00\">samples = 117</text>\n<text text-anchor=\"middle\" x=\"4129\" y=\"-126.8\" font-family=\"Helvetica,sans-Serif\" font-size=\"14.00\">value = [103, 11, 3, 0]</text>\n<text text-anchor=\"middle\" x=\"4129\" y=\"-111.8\" font-family=\"Helvetica,sans-Serif\" font-size=\"14.00\">class = Dubai</text>\n</g>\n<!-- 49&#45;&gt;53 -->\n<g id=\"edge53\" class=\"edge\">\n<title>49&#45;&gt;53</title>\n<path fill=\"none\" stroke=\"black\" d=\"M4077.41,-222.91C4083.41,-214.01 4089.83,-204.51 4096.03,-195.33\"/>\n<polygon fill=\"black\" stroke=\"black\" points=\"4098.94,-197.27 4101.64,-187.02 4093.14,-193.35 4098.94,-197.27\"/>\n</g>\n<!-- 51 -->\n<g id=\"node52\" class=\"node\">\n<title>51</title>\n<path fill=\"#e88f4f\" stroke=\"black\" d=\"M3879,-68C3879,-68 3771,-68 3771,-68 3765,-68 3759,-62 3759,-56 3759,-56 3759,-12 3759,-12 3759,-6 3765,0 3771,0 3771,0 3879,0 3879,0 3885,0 3891,-6 3891,-12 3891,-12 3891,-56 3891,-56 3891,-62 3885,-68 3879,-68\"/>\n<text text-anchor=\"middle\" x=\"3825\" y=\"-52.8\" font-family=\"Helvetica,sans-Serif\" font-size=\"14.00\">entropy = 0.647</text>\n<text text-anchor=\"middle\" x=\"3825\" y=\"-37.8\" font-family=\"Helvetica,sans-Serif\" font-size=\"14.00\">samples = 94</text>\n<text text-anchor=\"middle\" x=\"3825\" y=\"-22.8\" font-family=\"Helvetica,sans-Serif\" font-size=\"14.00\">value = [84, 2, 5, 3]</text>\n<text text-anchor=\"middle\" x=\"3825\" y=\"-7.8\" font-family=\"Helvetica,sans-Serif\" font-size=\"14.00\">class = Dubai</text>\n</g>\n<!-- 50&#45;&gt;51 -->\n<g id=\"edge51\" class=\"edge\">\n<title>50&#45;&gt;51</title>\n<path fill=\"none\" stroke=\"black\" d=\"M3916.63,-103.73C3903.87,-94.15 3890.28,-83.96 3877.59,-74.44\"/>\n<polygon fill=\"black\" stroke=\"black\" points=\"3879.5,-71.5 3869.4,-68.3 3875.3,-77.1 3879.5,-71.5\"/>\n</g>\n<!-- 52 -->\n<g id=\"node53\" class=\"node\">\n<title>52</title>\n<path fill=\"#fbede3\" stroke=\"black\" d=\"M4022.5,-68C4022.5,-68 3921.5,-68 3921.5,-68 3915.5,-68 3909.5,-62 3909.5,-56 3909.5,-56 3909.5,-12 3909.5,-12 3909.5,-6 3915.5,0 3921.5,0 3921.5,0 4022.5,0 4022.5,0 4028.5,0 4034.5,-6 4034.5,-12 4034.5,-12 4034.5,-56 4034.5,-56 4034.5,-62 4028.5,-68 4022.5,-68\"/>\n<text text-anchor=\"middle\" x=\"3972\" y=\"-52.8\" font-family=\"Helvetica,sans-Serif\" font-size=\"14.00\">entropy = 0.996</text>\n<text text-anchor=\"middle\" x=\"3972\" y=\"-37.8\" font-family=\"Helvetica,sans-Serif\" font-size=\"14.00\">samples = 13</text>\n<text text-anchor=\"middle\" x=\"3972\" y=\"-22.8\" font-family=\"Helvetica,sans-Serif\" font-size=\"14.00\">value = [7, 0, 0, 6]</text>\n<text text-anchor=\"middle\" x=\"3972\" y=\"-7.8\" font-family=\"Helvetica,sans-Serif\" font-size=\"14.00\">class = Dubai</text>\n</g>\n<!-- 50&#45;&gt;52 -->\n<g id=\"edge52\" class=\"edge\">\n<title>50&#45;&gt;52</title>\n<path fill=\"none\" stroke=\"black\" d=\"M3971.37,-103.73C3971.45,-95.52 3971.53,-86.86 3971.6,-78.56\"/>\n<polygon fill=\"black\" stroke=\"black\" points=\"3975.1,-78.33 3971.7,-68.3 3968.1,-78.27 3975.1,-78.33\"/>\n</g>\n<!-- 54 -->\n<g id=\"node55\" class=\"node\">\n<title>54</title>\n<path fill=\"#75ec6a\" stroke=\"black\" d=\"M4189,-68C4189,-68 4065,-68 4065,-68 4059,-68 4053,-62 4053,-56 4053,-56 4053,-12 4053,-12 4053,-6 4059,0 4065,0 4065,0 4189,0 4189,0 4195,0 4201,-6 4201,-12 4201,-12 4201,-56 4201,-56 4201,-62 4195,-68 4189,-68\"/>\n<text text-anchor=\"middle\" x=\"4127\" y=\"-52.8\" font-family=\"Helvetica,sans-Serif\" font-size=\"14.00\">entropy = 0.722</text>\n<text text-anchor=\"middle\" x=\"4127\" y=\"-37.8\" font-family=\"Helvetica,sans-Serif\" font-size=\"14.00\">samples = 5</text>\n<text text-anchor=\"middle\" x=\"4127\" y=\"-22.8\" font-family=\"Helvetica,sans-Serif\" font-size=\"14.00\">value = [0, 4, 1, 0]</text>\n<text text-anchor=\"middle\" x=\"4127\" y=\"-7.8\" font-family=\"Helvetica,sans-Serif\" font-size=\"14.00\">class = New York City</text>\n</g>\n<!-- 53&#45;&gt;54 -->\n<g id=\"edge54\" class=\"edge\">\n<title>53&#45;&gt;54</title>\n<path fill=\"none\" stroke=\"black\" d=\"M4128.26,-103.73C4128.11,-95.52 4127.95,-86.86 4127.8,-78.56\"/>\n<polygon fill=\"black\" stroke=\"black\" points=\"4131.29,-78.23 4127.61,-68.3 4124.29,-78.36 4131.29,-78.23\"/>\n</g>\n<!-- 55 -->\n<g id=\"node56\" class=\"node\">\n<title>55</title>\n<path fill=\"#e78c4a\" stroke=\"black\" d=\"M4347,-68C4347,-68 4231,-68 4231,-68 4225,-68 4219,-62 4219,-56 4219,-56 4219,-12 4219,-12 4219,-6 4225,0 4231,0 4231,0 4347,0 4347,0 4353,0 4359,-6 4359,-12 4359,-12 4359,-56 4359,-56 4359,-62 4353,-68 4347,-68\"/>\n<text text-anchor=\"middle\" x=\"4289\" y=\"-52.8\" font-family=\"Helvetica,sans-Serif\" font-size=\"14.00\">entropy = 0.465</text>\n<text text-anchor=\"middle\" x=\"4289\" y=\"-37.8\" font-family=\"Helvetica,sans-Serif\" font-size=\"14.00\">samples = 112</text>\n<text text-anchor=\"middle\" x=\"4289\" y=\"-22.8\" font-family=\"Helvetica,sans-Serif\" font-size=\"14.00\">value = [103, 7, 2, 0]</text>\n<text text-anchor=\"middle\" x=\"4289\" y=\"-7.8\" font-family=\"Helvetica,sans-Serif\" font-size=\"14.00\">class = Dubai</text>\n</g>\n<!-- 53&#45;&gt;55 -->\n<g id=\"edge55\" class=\"edge\">\n<title>53&#45;&gt;55</title>\n<path fill=\"none\" stroke=\"black\" d=\"M4188.58,-103.73C4202.78,-94.01 4217.9,-83.66 4231.98,-74.02\"/>\n<polygon fill=\"black\" stroke=\"black\" points=\"4234.32,-76.66 4240.6,-68.13 4230.37,-70.88 4234.32,-76.66\"/>\n</g>\n<!-- 57 -->\n<g id=\"node58\" class=\"node\">\n<title>57</title>\n<path fill=\"#88c4ef\" stroke=\"black\" d=\"M4568.5,-187C4568.5,-187 4467.5,-187 4467.5,-187 4461.5,-187 4455.5,-181 4455.5,-175 4455.5,-175 4455.5,-116 4455.5,-116 4455.5,-110 4461.5,-104 4467.5,-104 4467.5,-104 4568.5,-104 4568.5,-104 4574.5,-104 4580.5,-110 4580.5,-116 4580.5,-116 4580.5,-175 4580.5,-175 4580.5,-181 4574.5,-187 4568.5,-187\"/>\n<text text-anchor=\"middle\" x=\"4518\" y=\"-171.8\" font-family=\"Helvetica,sans-Serif\" font-size=\"14.00\">Q7 &lt;= 25.0</text>\n<text text-anchor=\"middle\" x=\"4518\" y=\"-156.8\" font-family=\"Helvetica,sans-Serif\" font-size=\"14.00\">entropy = 0.863</text>\n<text text-anchor=\"middle\" x=\"4518\" y=\"-141.8\" font-family=\"Helvetica,sans-Serif\" font-size=\"14.00\">samples = 7</text>\n<text text-anchor=\"middle\" x=\"4518\" y=\"-126.8\" font-family=\"Helvetica,sans-Serif\" font-size=\"14.00\">value = [0, 0, 5, 2]</text>\n<text text-anchor=\"middle\" x=\"4518\" y=\"-111.8\" font-family=\"Helvetica,sans-Serif\" font-size=\"14.00\">class = Paris</text>\n</g>\n<!-- 56&#45;&gt;57 -->\n<g id=\"edge57\" class=\"edge\">\n<title>56&#45;&gt;57</title>\n<path fill=\"none\" stroke=\"black\" d=\"M4518,-222.91C4518,-214.65 4518,-205.86 4518,-197.3\"/>\n<polygon fill=\"black\" stroke=\"black\" points=\"4521.5,-197.02 4518,-187.02 4514.5,-197.02 4521.5,-197.02\"/>\n</g>\n<!-- 60 -->\n<g id=\"node61\" class=\"node\">\n<title>60</title>\n<path fill=\"#fcf1e9\" stroke=\"black\" d=\"M4801.5,-187C4801.5,-187 4700.5,-187 4700.5,-187 4694.5,-187 4688.5,-181 4688.5,-175 4688.5,-175 4688.5,-116 4688.5,-116 4688.5,-110 4694.5,-104 4700.5,-104 4700.5,-104 4801.5,-104 4801.5,-104 4807.5,-104 4813.5,-110 4813.5,-116 4813.5,-116 4813.5,-175 4813.5,-175 4813.5,-181 4807.5,-187 4801.5,-187\"/>\n<text text-anchor=\"middle\" x=\"4751\" y=\"-171.8\" font-family=\"Helvetica,sans-Serif\" font-size=\"14.00\">Q9 &lt;= 9.0</text>\n<text text-anchor=\"middle\" x=\"4751\" y=\"-156.8\" font-family=\"Helvetica,sans-Serif\" font-size=\"14.00\">entropy = 1.429</text>\n<text text-anchor=\"middle\" x=\"4751\" y=\"-141.8\" font-family=\"Helvetica,sans-Serif\" font-size=\"14.00\">samples = 15</text>\n<text text-anchor=\"middle\" x=\"4751\" y=\"-126.8\" font-family=\"Helvetica,sans-Serif\" font-size=\"14.00\">value = [7, 6, 2, 0]</text>\n<text text-anchor=\"middle\" x=\"4751\" y=\"-111.8\" font-family=\"Helvetica,sans-Serif\" font-size=\"14.00\">class = Dubai</text>\n</g>\n<!-- 56&#45;&gt;60 -->\n<g id=\"edge60\" class=\"edge\">\n<title>56&#45;&gt;60</title>\n<path fill=\"none\" stroke=\"black\" d=\"M4583.52,-230.6C4613.29,-215.65 4648.58,-197.93 4679.08,-182.62\"/>\n<polygon fill=\"black\" stroke=\"black\" points=\"4681.01,-185.56 4688.37,-177.95 4677.87,-179.31 4681.01,-185.56\"/>\n</g>\n<!-- 58 -->\n<g id=\"node59\" class=\"node\">\n<title>58</title>\n<path fill=\"#399de5\" stroke=\"black\" d=\"M4490.5,-68C4490.5,-68 4389.5,-68 4389.5,-68 4383.5,-68 4377.5,-62 4377.5,-56 4377.5,-56 4377.5,-12 4377.5,-12 4377.5,-6 4383.5,0 4389.5,0 4389.5,0 4490.5,0 4490.5,0 4496.5,0 4502.5,-6 4502.5,-12 4502.5,-12 4502.5,-56 4502.5,-56 4502.5,-62 4496.5,-68 4490.5,-68\"/>\n<text text-anchor=\"middle\" x=\"4440\" y=\"-52.8\" font-family=\"Helvetica,sans-Serif\" font-size=\"14.00\">entropy = 0.0</text>\n<text text-anchor=\"middle\" x=\"4440\" y=\"-37.8\" font-family=\"Helvetica,sans-Serif\" font-size=\"14.00\">samples = 5</text>\n<text text-anchor=\"middle\" x=\"4440\" y=\"-22.8\" font-family=\"Helvetica,sans-Serif\" font-size=\"14.00\">value = [0, 0, 5, 0]</text>\n<text text-anchor=\"middle\" x=\"4440\" y=\"-7.8\" font-family=\"Helvetica,sans-Serif\" font-size=\"14.00\">class = Paris</text>\n</g>\n<!-- 57&#45;&gt;58 -->\n<g id=\"edge58\" class=\"edge\">\n<title>57&#45;&gt;58</title>\n<path fill=\"none\" stroke=\"black\" d=\"M4488.96,-103.73C4482.65,-94.88 4475.98,-85.51 4469.65,-76.63\"/>\n<polygon fill=\"black\" stroke=\"black\" points=\"4472.37,-74.41 4463.72,-68.3 4466.67,-78.48 4472.37,-74.41\"/>\n</g>\n<!-- 59 -->\n<g id=\"node60\" class=\"node\">\n<title>59</title>\n<path fill=\"#d739e5\" stroke=\"black\" d=\"M4659,-68C4659,-68 4533,-68 4533,-68 4527,-68 4521,-62 4521,-56 4521,-56 4521,-12 4521,-12 4521,-6 4527,0 4533,0 4533,0 4659,0 4659,0 4665,0 4671,-6 4671,-12 4671,-12 4671,-56 4671,-56 4671,-62 4665,-68 4659,-68\"/>\n<text text-anchor=\"middle\" x=\"4596\" y=\"-52.8\" font-family=\"Helvetica,sans-Serif\" font-size=\"14.00\">entropy = 0.0</text>\n<text text-anchor=\"middle\" x=\"4596\" y=\"-37.8\" font-family=\"Helvetica,sans-Serif\" font-size=\"14.00\">samples = 2</text>\n<text text-anchor=\"middle\" x=\"4596\" y=\"-22.8\" font-family=\"Helvetica,sans-Serif\" font-size=\"14.00\">value = [0, 0, 0, 2]</text>\n<text text-anchor=\"middle\" x=\"4596\" y=\"-7.8\" font-family=\"Helvetica,sans-Serif\" font-size=\"14.00\">class = Rio de Janeiro</text>\n</g>\n<!-- 57&#45;&gt;59 -->\n<g id=\"edge59\" class=\"edge\">\n<title>57&#45;&gt;59</title>\n<path fill=\"none\" stroke=\"black\" d=\"M4547.04,-103.73C4553.35,-94.88 4560.02,-85.51 4566.35,-76.63\"/>\n<polygon fill=\"black\" stroke=\"black\" points=\"4569.33,-78.48 4572.28,-68.3 4563.63,-74.41 4569.33,-78.48\"/>\n</g>\n<!-- 61 -->\n<g id=\"node62\" class=\"node\">\n<title>61</title>\n<path fill=\"#f1b991\" stroke=\"black\" d=\"M4801.5,-68C4801.5,-68 4700.5,-68 4700.5,-68 4694.5,-68 4688.5,-62 4688.5,-56 4688.5,-56 4688.5,-12 4688.5,-12 4688.5,-6 4694.5,0 4700.5,0 4700.5,0 4801.5,0 4801.5,0 4807.5,0 4813.5,-6 4813.5,-12 4813.5,-12 4813.5,-56 4813.5,-56 4813.5,-62 4807.5,-68 4801.5,-68\"/>\n<text text-anchor=\"middle\" x=\"4751\" y=\"-52.8\" font-family=\"Helvetica,sans-Serif\" font-size=\"14.00\">entropy = 1.309</text>\n<text text-anchor=\"middle\" x=\"4751\" y=\"-37.8\" font-family=\"Helvetica,sans-Serif\" font-size=\"14.00\">samples = 11</text>\n<text text-anchor=\"middle\" x=\"4751\" y=\"-22.8\" font-family=\"Helvetica,sans-Serif\" font-size=\"14.00\">value = [7, 2, 2, 0]</text>\n<text text-anchor=\"middle\" x=\"4751\" y=\"-7.8\" font-family=\"Helvetica,sans-Serif\" font-size=\"14.00\">class = Dubai</text>\n</g>\n<!-- 60&#45;&gt;61 -->\n<g id=\"edge61\" class=\"edge\">\n<title>60&#45;&gt;61</title>\n<path fill=\"none\" stroke=\"black\" d=\"M4751,-103.73C4751,-95.52 4751,-86.86 4751,-78.56\"/>\n<polygon fill=\"black\" stroke=\"black\" points=\"4754.5,-78.3 4751,-68.3 4747.5,-78.3 4754.5,-78.3\"/>\n</g>\n<!-- 62 -->\n<g id=\"node63\" class=\"node\">\n<title>62</title>\n<path fill=\"#47e539\" stroke=\"black\" d=\"M4968,-68C4968,-68 4844,-68 4844,-68 4838,-68 4832,-62 4832,-56 4832,-56 4832,-12 4832,-12 4832,-6 4838,0 4844,0 4844,0 4968,0 4968,0 4974,0 4980,-6 4980,-12 4980,-12 4980,-56 4980,-56 4980,-62 4974,-68 4968,-68\"/>\n<text text-anchor=\"middle\" x=\"4906\" y=\"-52.8\" font-family=\"Helvetica,sans-Serif\" font-size=\"14.00\">entropy = 0.0</text>\n<text text-anchor=\"middle\" x=\"4906\" y=\"-37.8\" font-family=\"Helvetica,sans-Serif\" font-size=\"14.00\">samples = 4</text>\n<text text-anchor=\"middle\" x=\"4906\" y=\"-22.8\" font-family=\"Helvetica,sans-Serif\" font-size=\"14.00\">value = [0, 4, 0, 0]</text>\n<text text-anchor=\"middle\" x=\"4906\" y=\"-7.8\" font-family=\"Helvetica,sans-Serif\" font-size=\"14.00\">class = New York City</text>\n</g>\n<!-- 60&#45;&gt;62 -->\n<g id=\"edge62\" class=\"edge\">\n<title>60&#45;&gt;62</title>\n<path fill=\"none\" stroke=\"black\" d=\"M4808.72,-103.73C4822.4,-94.06 4836.97,-83.77 4850.55,-74.17\"/>\n<polygon fill=\"black\" stroke=\"black\" points=\"4852.72,-76.93 4858.86,-68.3 4848.68,-71.21 4852.72,-76.93\"/>\n</g>\n</g>\n</svg>\n",
            "text/plain": [
              "<graphviz.sources.Source at 0x7b4da0e99690>"
            ]
          },
          "metadata": {}
        }
      ]
    },
    {
      "cell_type": "code",
      "source": [
        "def generateSets(df):\n",
        "    t = df[\"Label\"]\n",
        "    X = df.drop([\"Label\"], axis=1)\n",
        "\n",
        "    X_train, X_test, t_train, t_test = train_test_split(X, t, test_size=0.2)\n",
        "    X_train, X_valid, t_train, t_valid = train_test_split(X_train, t_train,\n",
        "                                                          test_size=0.2)\n",
        "    return X_train, t_train, X_valid, t_valid, X_test, t_test"
      ],
      "metadata": {
        "id": "rKP5r7GKtMDs"
      },
      "execution_count": 76,
      "outputs": []
    },
    {
      "cell_type": "code",
      "source": [
        "totalAccuracies = 0\n",
        "df = pd.read_csv(filename)\n",
        "df = organize_data(df)\n",
        "columns_with_nan = df.columns[df.isna().any()].tolist()\n",
        "\n",
        "for i in range(100):\n",
        "  X_train, t_train, X_valid, t_valid, X_test, t_test = generateSets(df)\n",
        "  X = X_train\n",
        "  t = t_train\n",
        "\n",
        "  tree = DecisionTreeClassifier(criterion='entropy', max_depth=5,\n",
        "                                min_samples_split=2)\n",
        "  tree.fit(X, t)\n",
        "  accuracy_test = tree.score(X_test, t_test)\n",
        "  totalAccuracies += accuracy_test\n",
        "avgAccuracy = totalAccuracies / 100\n",
        "print(f\"accuracy with ('entropy', 5, 2): for testing: {avgAccuracy}\")\n",
        "\n"
      ],
      "metadata": {
        "id": "zduJhqQX6i1r"
      },
      "execution_count": null,
      "outputs": []
    }
  ]
}